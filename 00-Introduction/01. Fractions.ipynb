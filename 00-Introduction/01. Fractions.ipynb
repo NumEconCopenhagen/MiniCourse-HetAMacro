{
 "cells": [
  {
   "cell_type": "markdown",
   "metadata": {},
   "source": [
    "**Table of contents**<a id='toc0_'></a>    \n",
    "- 1. [Fraction class](#toc1_)    \n",
    "- 2. [In-place operations](#toc2_)    \n",
    "- 3. [List of fractions](#toc3_)    \n",
    "\n",
    "<!-- vscode-jupyter-toc-config\n",
    "\tnumbering=true\n",
    "\tanchor=true\n",
    "\tflat=false\n",
    "\tminLevel=2\n",
    "\tmaxLevel=6\n",
    "\t/vscode-jupyter-toc-config -->\n",
    "<!-- THIS CELL WILL BE REPLACED ON TOC UPDATE. DO NOT WRITE YOUR TEXT IN THIS CELL -->"
   ]
  },
  {
   "cell_type": "markdown",
   "metadata": {},
   "source": [
    "## 1. <a id='toc1_'></a>[Fraction class](#toc0_)"
   ]
  },
  {
   "cell_type": "markdown",
   "metadata": {},
   "source": [
    "Define the `Fraction` class:"
   ]
  },
  {
   "cell_type": "code",
   "execution_count": 1,
   "metadata": {},
   "outputs": [],
   "source": [
    "class Fraction:\n",
    "    \n",
    "    def __init__(self,numerator,denominator): # called when instance is created\n",
    "        \"\"\" initializes the fraction with a numerator and denominator \"\"\"\n",
    "        \n",
    "        self.num = numerator\n",
    "        self.denom = denominator\n",
    "\n",
    "    def simplify(self):\n",
    "        \"\"\" simplifies the fraction by dividing the numerator and denominator by their greatest common divisor\"\"\"\n",
    "\n",
    "        for i in range(2,self.denom+1): # 2,3,4,...,denom\n",
    "            if self.num%i == 0 and self.denom%i == 0:\n",
    "                self.num = self.num//i # // is integer division\n",
    "                self.denom = self.denom//i\n",
    "                self.simplify() # recursive call\n",
    "                break\n",
    "        \n",
    "        # when we get here, the fraction is fully simplified\n",
    "    \n",
    "    def __str__(self): # called when using print\n",
    "        \"\"\" string representation of the fraction \"\"\"\n",
    "        \n",
    "        return f'{self.num}/{self.denom}'\n",
    "    \n",
    "    def __repr__(self): # called in e.g. f-string\n",
    "        \"\"\" string representation of the fraction \"\"\"\n",
    "        \n",
    "        return self.__str__()\n",
    "\n",
    "    def __add__(self,other): # called when using +\n",
    "        \"\"\" adds two fractions \"\"\"\n",
    "        \n",
    "        new_num = self.num*other.denom + other.num*self.denom\n",
    "        new_denom = self.denom*other.denom\n",
    "        \n",
    "        new_Fraction = Fraction(new_num,new_denom)\n",
    "        new_Fraction.simplify()\n",
    "        \n",
    "        return new_Fraction"
   ]
  },
  {
   "cell_type": "markdown",
   "metadata": {},
   "source": [
    "Create a fraction and look at its adress using `id`:"
   ]
  },
  {
   "cell_type": "code",
   "execution_count": 2,
   "metadata": {},
   "outputs": [
    {
     "name": "stdout",
     "output_type": "stream",
     "text": [
      "id(x) = 2191467992336: x = 2/6\n",
      "x.num = 2\n",
      "x.denom = 6\n",
      "id(x) = 2191467992336: x = 1/3\n"
     ]
    }
   ],
   "source": [
    "x = Fraction(2,6) # creating an instance\n",
    "print(f'{id(x) = }: {x = }')\n",
    "print(f'{x.num = }') # atrribute access\n",
    "print(f'{x.denom = }') # atrribute access\n",
    "x.simplify() # calling a method\n",
    "print(f'{id(x) = }: {x = }')"
   ]
  },
  {
   "cell_type": "markdown",
   "metadata": {},
   "source": [
    "Test addition:"
   ]
  },
  {
   "cell_type": "code",
   "execution_count": 3,
   "metadata": {},
   "outputs": [
    {
     "name": "stdout",
     "output_type": "stream",
     "text": [
      "11/15\n"
     ]
    }
   ],
   "source": [
    "x = Fraction(2,6) # 2/6 = 5/15\n",
    "y = Fraction(2,5) # 2/5 = 6/15\n",
    "z = x+y # 5/15 + 6/15 = 11/15\n",
    "print(z)"
   ]
  },
  {
   "cell_type": "markdown",
   "metadata": {},
   "source": [
    "Does subtraction also work?"
   ]
  },
  {
   "cell_type": "code",
   "execution_count": 4,
   "metadata": {},
   "outputs": [
    {
     "name": "stdout",
     "output_type": "stream",
     "text": [
      "does not work:\n",
      "unsupported operand type(s) for -: 'Fraction' and 'Fraction'\n"
     ]
    }
   ],
   "source": [
    "try:\n",
    "    z = x-y\n",
    "except Exception as e:\n",
    "    print(f'does not work:')\n",
    "    print(e)    "
   ]
  },
  {
   "cell_type": "markdown",
   "metadata": {},
   "source": [
    "## 2. <a id='toc2_'></a>[In-place operations](#toc0_)"
   ]
  },
  {
   "cell_type": "markdown",
   "metadata": {},
   "source": [
    "Normal addition of fractions create new variable:"
   ]
  },
  {
   "cell_type": "code",
   "execution_count": 5,
   "metadata": {},
   "outputs": [
    {
     "name": "stdout",
     "output_type": "stream",
     "text": [
      "id(x) = 2191473099600\n",
      "id(x) = 2191473099792, x = 3/2\n",
      "id(y) = 2191473099600, y = 1/2\n"
     ]
    }
   ],
   "source": [
    "x = Fraction(1,2)\n",
    "y = x\n",
    "print(f'{id(x) = }')\n",
    "x = x + Fraction(1,1)\n",
    "print(f'{id(x) = }, {x = }')\n",
    "print(f'{id(y) = }, {y = }')"
   ]
  },
  {
   "cell_type": "markdown",
   "metadata": {},
   "source": [
    "Extend the `Fraction` class with in-place addition:"
   ]
  },
  {
   "cell_type": "code",
   "execution_count": 6,
   "metadata": {},
   "outputs": [
    {
     "name": "stdout",
     "output_type": "stream",
     "text": [
      "id(x) = 2191473099024\n",
      "id(x) = 2191473099024, x = 3/2\n",
      "id(y) = 2191473099024, y = 3/2\n"
     ]
    }
   ],
   "source": [
    "class Fraction_i(Fraction):\n",
    "\n",
    "    def __iadd__(self,other):\n",
    "        \"\"\" adds two fractions together in-place \"\"\"\n",
    "\n",
    "        self.num = self.num*other.denom + other.num*self.denom\n",
    "        self.denom = self.denom*other.denom\n",
    "        self.simplify()\n",
    "        return self\n",
    "\n",
    "x = Fraction_i(1,2)\n",
    "y = x\n",
    "print(f'{id(x) = }')\n",
    "x += Fraction_i(1,1)\n",
    "print(f'{id(x) = }, {x = }')\n",
    "print(f'{id(y) = }, {y = }')"
   ]
  },
  {
   "cell_type": "markdown",
   "metadata": {},
   "source": [
    "## 3. <a id='toc3_'></a>[List of fractions](#toc0_)"
   ]
  },
  {
   "cell_type": "markdown",
   "metadata": {},
   "source": [
    "Define new class derived from basic `Franction` class:"
   ]
  },
  {
   "cell_type": "code",
   "execution_count": 7,
   "metadata": {},
   "outputs": [],
   "source": [
    "class Fraction_with_next(Fraction):\n",
    "\n",
    "    def __init__(self,num,denom):\n",
    "        \"\"\" initializes the fraction with a numerator and denominator \"\"\"\n",
    "        \n",
    "        super().__init__(num,denom) # call the __init__ of the parent class\n",
    "        self.next = None"
   ]
  },
  {
   "cell_type": "markdown",
   "metadata": {},
   "source": [
    "Create the `FractionList` class:"
   ]
  },
  {
   "cell_type": "code",
   "execution_count": 8,
   "metadata": {},
   "outputs": [],
   "source": [
    "class FractionList():\n",
    "\n",
    "    def __init__(self):\n",
    "        \"\"\" creates an empty list of fractions \"\"\"\n",
    "\n",
    "        self.head = None\n",
    "        self.cur = None\n",
    "\n",
    "    def append(self,Fraction):\n",
    "        \"\"\" appends a fraction to the list \"\"\"\n",
    "\n",
    "        if self.head is None:\n",
    "            self.head = self.cur = Fraction_with_next(Fraction.num,Fraction.denom)\n",
    "        else:\n",
    "            self.cur.next = Fraction_with_next(Fraction.num,Fraction.denom)\n",
    "            self.cur = self.cur.next # update cur\n",
    "\n",
    "    def __getitem__(self,index):\n",
    "        \"\"\" returns the fraction at the given index \"\"\"\n",
    "            \n",
    "        cur = self.head\n",
    "        for _ in range(index):\n",
    "            cur = cur.next\n",
    "\n",
    "        return cur\n",
    "\n",
    "    def __iter__(self):\n",
    "        \"\"\" returns an iterator for the list \"\"\"\n",
    "\n",
    "        self.cur = self.head\n",
    "        return self\n",
    "\n",
    "    def __next__(self):\n",
    "        \"\"\" returns the next element in the list \"\"\"\n",
    "\n",
    "        if self.cur is None: raise StopIteration\n",
    "\n",
    "        cur = self.cur\n",
    "        self.cur = self.cur.next\n",
    "        return cur\n"
   ]
  },
  {
   "cell_type": "markdown",
   "metadata": {},
   "source": [
    "Test:"
   ]
  },
  {
   "cell_type": "code",
   "execution_count": 9,
   "metadata": {},
   "outputs": [
    {
     "name": "stdout",
     "output_type": "stream",
     "text": [
      "indexing:\n",
      "x[2] = 1/4\n",
      "\n",
      "iteration:\n",
      "x[0] = 1/2\n",
      "x[1] = 1/3\n",
      "x[2] = 1/4\n",
      "x[3] = 1/5\n"
     ]
    }
   ],
   "source": [
    "x = FractionList()\n",
    "x.append(Fraction(1,2))\n",
    "x.append(Fraction(1,3))\n",
    "x.append(Fraction(1,4))\n",
    "x.append(Fraction(1,5))\n",
    "\n",
    "print('indexing:')\n",
    "print(f'{x[2] = }')\n",
    "print('')\n",
    "print('iteration:')\n",
    "for i,val in enumerate(x):\n",
    "    print(f'x[{i}] = {val}')"
   ]
  }
 ],
 "metadata": {
  "kernelspec": {
   "display_name": "base",
   "language": "python",
   "name": "python3"
  },
  "language_info": {
   "codemirror_mode": {
    "name": "ipython",
    "version": 3
   },
   "file_extension": ".py",
   "mimetype": "text/x-python",
   "name": "python",
   "nbconvert_exporter": "python",
   "pygments_lexer": "ipython3",
   "version": "3.11.3"
  }
 },
 "nbformat": 4,
 "nbformat_minor": 2
}
