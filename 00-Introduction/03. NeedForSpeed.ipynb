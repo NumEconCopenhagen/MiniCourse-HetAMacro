{
 "cells": [
  {
   "cell_type": "markdown",
   "metadata": {},
   "source": [
    "# Need for speed"
   ]
  },
  {
   "cell_type": "markdown",
   "metadata": {},
   "source": [
    "**Table of contents**<a id='toc0_'></a>    \n",
    "- 1. [Timing and precomputations](#toc1_)    \n",
    "- 2. [Line profilling](#toc2_)    \n",
    "- 3. [Optimizing Numpy](#toc3_)    \n",
    "  - 3.1. [Tip 1: Always use vectorized operations when available](#toc3_1_)    \n",
    "  - 3.2. [Tip 2: Operations are faster on rows than on columns](#toc3_2_)    \n",
    "  - 3.3. [Tip 3: Also use vectorized operations when it is a bit cumbersome](#toc3_3_)    \n",
    "- 4. [Numba](#toc4_)    \n",
    "  - 4.1. [Further speed-up](#toc4_1_)    \n",
    "  - 4.2. [Calling an optimizer](#toc4_2_)    \n",
    "\n",
    "<!-- vscode-jupyter-toc-config\n",
    "\tnumbering=true\n",
    "\tanchor=true\n",
    "\tflat=false\n",
    "\tminLevel=2\n",
    "\tmaxLevel=6\n",
    "\t/vscode-jupyter-toc-config -->\n",
    "<!-- THIS CELL WILL BE REPLACED ON TOC UPDATE. DO NOT WRITE YOUR TEXT IN THIS CELL -->"
   ]
  },
  {
   "cell_type": "code",
   "execution_count": 1,
   "metadata": {},
   "outputs": [],
   "source": [
    "%load_ext autoreload\n",
    "%autoreload 2\n",
    "\n",
    "import time\n",
    "import numpy as np\n",
    "import numba as nb\n",
    "import quantecon as qe\n",
    "from scipy import optimize\n",
    "\n",
    "import matplotlib.pyplot as plt\n",
    "plt.rcParams.update({\"axes.grid\":True,\"grid.color\":\"black\",\"grid.alpha\":\"0.25\",\"grid.linestyle\":\"--\"})\n",
    "plt.rcParams.update({'font.size': 14})\n",
    "\n",
    "# magics\n",
    "#  conda install line_profiler\n",
    "\n",
    "%load_ext line_profiler"
   ]
  },
  {
   "cell_type": "markdown",
   "metadata": {},
   "source": [
    "## 1. <a id='toc1_'></a>[Timing and precomputations](#toc0_)"
   ]
  },
  {
   "cell_type": "markdown",
   "metadata": {},
   "source": [
    "Consider the following function doing some simple algebraic operations:"
   ]
  },
  {
   "cell_type": "code",
   "execution_count": 2,
   "metadata": {},
   "outputs": [],
   "source": [
    "def myfun(x,i):\n",
    "    y = 0\n",
    "    for j in range(100):\n",
    "        y += x**j\n",
    "    return y + i"
   ]
  },
  {
   "cell_type": "markdown",
   "metadata": {},
   "source": [
    "And another function calling the former function in a loop:"
   ]
  },
  {
   "cell_type": "code",
   "execution_count": 3,
   "metadata": {},
   "outputs": [],
   "source": [
    "def myfun_loop(n):\n",
    "    mysum = 0\n",
    "    for i in range(n):\n",
    "        mysum += myfun(5,i)\n",
    "    return mysum"
   ]
  },
  {
   "cell_type": "markdown",
   "metadata": {},
   "source": [
    "**How long does it take to run ``myfun_loop``:**"
   ]
  },
  {
   "cell_type": "markdown",
   "metadata": {},
   "source": [
    "**A.** Manual timing"
   ]
  },
  {
   "cell_type": "code",
   "execution_count": 4,
   "metadata": {},
   "outputs": [
    {
     "name": "stdout",
     "output_type": "stream",
     "text": [
      "0.0295001 seconds\n"
     ]
    }
   ],
   "source": [
    "t0 = time.perf_counter()\n",
    "mysum = myfun_loop(1000)\n",
    "t1 = time.perf_counter()    \n",
    "print(f'{t1-t0:.8} seconds')"
   ]
  },
  {
   "cell_type": "markdown",
   "metadata": {},
   "source": [
    "**B.** Use the ``%time`` magic (work on a single line)"
   ]
  },
  {
   "cell_type": "code",
   "execution_count": 5,
   "metadata": {},
   "outputs": [
    {
     "name": "stdout",
     "output_type": "stream",
     "text": [
      "CPU times: total: 31.2 ms\n",
      "Wall time: 29.9 ms\n",
      "CPU times: total: 31.2 ms\n",
      "Wall time: 31.7 ms\n"
     ]
    }
   ],
   "source": [
    "%time mysum = myfun_loop(1000)\n",
    "%time mysum = myfun_loop(1000)"
   ]
  },
  {
   "attachments": {},
   "cell_type": "markdown",
   "metadata": {},
   "source": [
    "**ms** $\\equiv$ milliseconds, $10^{-3}$ of a second.<br>\n",
    "**$\\mu$ s** $\\equiv$ mikroseconds, $10^{-6}$ of a second.<br>\n",
    "**ns** $\\equiv$ nanoseconds, $10^{-9}$ of a second."
   ]
  },
  {
   "cell_type": "markdown",
   "metadata": {},
   "source": [
    "**C.** Use the ``%timeit`` magic to also see variability (work on single line)"
   ]
  },
  {
   "cell_type": "code",
   "execution_count": 6,
   "metadata": {},
   "outputs": [
    {
     "name": "stdout",
     "output_type": "stream",
     "text": [
      "49.8 ms ± 21.2 ms per loop (mean ± std. dev. of 7 runs, 10 loops each)\n",
      "31.3 ms ± 1.22 ms per loop (mean ± std. dev. of 5 runs, 20 loops each)\n"
     ]
    }
   ],
   "source": [
    "%timeit myfun_loop(1000)\n",
    "%timeit -r 5 -n 20 myfun_loop(1000)"
   ]
  },
  {
   "attachments": {},
   "cell_type": "markdown",
   "metadata": {},
   "source": [
    "``%timeit`` report the best of ``r`` runs each calling the code ``n`` times in a loop"
   ]
  },
  {
   "cell_type": "markdown",
   "metadata": {},
   "source": [
    "**Question:** How can we speed up the computation using **precomputation**?"
   ]
  },
  {
   "cell_type": "code",
   "execution_count": 7,
   "metadata": {},
   "outputs": [],
   "source": [
    "# write your code\n",
    "    \n",
    "# remember\n",
    "def myfun_loop(n):\n",
    "    mysum = 0\n",
    "    for i in range(n):\n",
    "        mysum += myfun(5,i)\n",
    "    return mysum\n",
    "\n",
    "def myfun(x,i):\n",
    "    y = 0\n",
    "    for j in range(100):\n",
    "        y += x**j\n",
    "    return y + i"
   ]
  },
  {
   "cell_type": "markdown",
   "metadata": {},
   "source": [
    "**Answer:**"
   ]
  },
  {
   "cell_type": "code",
   "execution_count": 8,
   "metadata": {
    "jupyter": {
     "source_hidden": true
    }
   },
   "outputs": [],
   "source": [
    "def myfun_loop_fast(n):\n",
    "    myfunx = myfun(5,0) # precomputation\n",
    "    mysum = 0\n",
    "    for i in range(n):\n",
    "        mysum += myfunx + i\n",
    "    return mysum"
   ]
  },
  {
   "cell_type": "code",
   "execution_count": 9,
   "metadata": {},
   "outputs": [
    {
     "name": "stdout",
     "output_type": "stream",
     "text": [
      "0.00021370 seconds\n"
     ]
    }
   ],
   "source": [
    "t0 = time.perf_counter()\n",
    "mysum_fast = myfun_loop_fast(1000)\n",
    "t1 = time.perf_counter()    \n",
    "print(f'{t1-t0:.8f} seconds')"
   ]
  },
  {
   "cell_type": "markdown",
   "metadata": {},
   "source": [
    "Too fast to be measured with ``time.perf_counter()``. The ``%timeit`` magic still works:"
   ]
  },
  {
   "cell_type": "code",
   "execution_count": 10,
   "metadata": {},
   "outputs": [
    {
     "name": "stdout",
     "output_type": "stream",
     "text": [
      "31.3 ms ± 3.78 ms per loop (mean ± std. dev. of 7 runs, 10 loops each)\n",
      "137 µs ± 8.88 µs per loop (mean ± std. dev. of 7 runs, 10,000 loops each)\n"
     ]
    }
   ],
   "source": [
    "%timeit myfun_loop(1000)\n",
    "%timeit myfun_loop_fast(1000)"
   ]
  },
  {
   "cell_type": "markdown",
   "metadata": {},
   "source": [
    "$\\rightarrow$ **orders of magnitude faster!**\n",
    "\n",
    "Check the **results are the same**:"
   ]
  },
  {
   "cell_type": "code",
   "execution_count": 11,
   "metadata": {},
   "outputs": [],
   "source": [
    "assert mysum == mysum_fast"
   ]
  },
  {
   "cell_type": "markdown",
   "metadata": {},
   "source": [
    "## 2. <a id='toc2_'></a>[Line profilling](#toc0_)"
   ]
  },
  {
   "cell_type": "markdown",
   "metadata": {},
   "source": [
    "**Premature optimization is the root of all evil!**"
   ]
  },
  {
   "cell_type": "markdown",
   "metadata": {},
   "source": [
    "**Important:** Before deciding whether to do a precomputation (which often makes the code harder to read) we should investigate, whether it alleviates a bottleneck.\n",
    "\n",
    "* **A.** Insert multiple ``time.perf_counter()`` to time different parts of the code.\n",
    "* **B.** Use the ``line_profiler`` with syntax (also works with methods for classes)\n",
    "\n",
    "  ``%lprun -f FUNCTION_TO_PROFILE -f FUNCTION_TO_PROFILE FUNCTION_TO_RUN``"
   ]
  },
  {
   "cell_type": "markdown",
   "metadata": {},
   "source": [
    "**Baseline method:**"
   ]
  },
  {
   "cell_type": "code",
   "execution_count": 12,
   "metadata": {},
   "outputs": [
    {
     "name": "stdout",
     "output_type": "stream",
     "text": [
      "Timer unit: 1e-07 s\n",
      "\n",
      "Total time: 0.168759 s\n",
      "File: C:\\Users\\gmf123\\AppData\\Local\\Temp\\ipykernel_25728\\2824044186.py\n",
      "Function: myfun_loop at line 4\n",
      "\n",
      "Line #      Hits         Time  Per Hit   % Time  Line Contents\n",
      "==============================================================\n",
      "     4                                           def myfun_loop(n):\n",
      "     5         1          5.0      5.0      0.0      mysum = 0\n",
      "     6      1001       4056.0      4.1      0.2      for i in range(n):\n",
      "     7      1000    1683530.0   1683.5     99.8          mysum += myfun(5,i)\n",
      "     8         1          3.0      3.0      0.0      return mysum\n",
      "\n",
      "Total time: 0.110394 s\n",
      "File: C:\\Users\\gmf123\\AppData\\Local\\Temp\\ipykernel_25728\\2824044186.py\n",
      "Function: myfun at line 10\n",
      "\n",
      "Line #      Hits         Time  Per Hit   % Time  Line Contents\n",
      "==============================================================\n",
      "    10                                           def myfun(x,i):\n",
      "    11      1000       3465.0      3.5      0.3      y = 0\n",
      "    12    101000     349560.0      3.5     31.7      for j in range(100):\n",
      "    13    100000     746446.0      7.5     67.6          y += x**j\n",
      "    14      1000       4468.0      4.5      0.4      return y + i"
     ]
    }
   ],
   "source": [
    "%lprun -f myfun -f myfun_loop myfun_loop(1000)"
   ]
  },
  {
   "cell_type": "markdown",
   "metadata": {},
   "source": [
    "**Observation:** Most of the time is spend in ``myfun()``, more specifically the computation of the power in line 4. The precomputation solves this problem."
   ]
  },
  {
   "cell_type": "markdown",
   "metadata": {},
   "source": [
    "**Compare with the fast method:**"
   ]
  },
  {
   "cell_type": "code",
   "execution_count": 13,
   "metadata": {},
   "outputs": [
    {
     "name": "stdout",
     "output_type": "stream",
     "text": [
      "Timer unit: 1e-07 s\n",
      "\n",
      "Total time: 0.0011151 s\n",
      "File: C:\\Users\\gmf123\\AppData\\Local\\Temp\\ipykernel_25728\\3913433440.py\n",
      "Function: myfun_loop_fast at line 1\n",
      "\n",
      "Line #      Hits         Time  Per Hit   % Time  Line Contents\n",
      "==============================================================\n",
      "     1                                           def myfun_loop_fast(n):\n",
      "     2         1       1355.0   1355.0     12.2      myfunx = myfun(5,0) # precomputation\n",
      "     3         1          6.0      6.0      0.1      mysum = 0\n",
      "     4      1001       3996.0      4.0     35.8      for i in range(n):\n",
      "     5      1000       5789.0      5.8     51.9          mysum += myfunx + i\n",
      "     6         1          5.0      5.0      0.0      return mysum"
     ]
    }
   ],
   "source": [
    "%lprun -f myfun_loop_fast myfun_loop_fast(1000)"
   ]
  },
  {
   "cell_type": "markdown",
   "metadata": {},
   "source": [
    "## 3. <a id='toc3_'></a>[Optimizing Numpy](#toc0_)"
   ]
  },
  {
   "cell_type": "markdown",
   "metadata": {},
   "source": [
    "### 3.1. <a id='toc3_1_'></a>[Tip 1: Always use vectorized operations when available](#toc0_)\n",
    "\n",
    "**Simple comparison:**"
   ]
  },
  {
   "cell_type": "code",
   "execution_count": 14,
   "metadata": {},
   "outputs": [
    {
     "name": "stdout",
     "output_type": "stream",
     "text": [
      "82.7 ms ± 5.98 ms per loop (mean ± std. dev. of 7 runs, 10 loops each)\n",
      "125 ms ± 11 ms per loop (mean ± std. dev. of 7 runs, 10 loops each)\n",
      "1.5 ms ± 88 µs per loop (mean ± std. dev. of 7 runs, 1,000 loops each)\n"
     ]
    }
   ],
   "source": [
    "x = np.random.uniform(size=500000)\n",
    "\n",
    "def python_add(x):\n",
    "    y = []\n",
    "    for xi in x:\n",
    "        y.append(xi+1)\n",
    "    return y\n",
    "\n",
    "def numpy_add(x):\n",
    "    y = np.empty(x.size)\n",
    "    for i in range(x.size):\n",
    "        y[i] = x[i]+1\n",
    "    return y\n",
    "\n",
    "def numpy_add_vec(x):\n",
    "    return x+1\n",
    "\n",
    "assert np.allclose(python_add(x),numpy_add(x))\n",
    "assert np.allclose(python_add(x),numpy_add_vec(x))\n",
    "\n",
    "%timeit python_add(x)\n",
    "%timeit numpy_add(x)\n",
    "%timeit numpy_add_vec(x)"
   ]
  },
  {
   "cell_type": "markdown",
   "metadata": {},
   "source": [
    "Even **stronger** when the **computation is more complicated:**"
   ]
  },
  {
   "cell_type": "code",
   "execution_count": 15,
   "metadata": {},
   "outputs": [
    {
     "name": "stdout",
     "output_type": "stream",
     "text": [
      "422 ms ± 11.5 ms per loop (mean ± std. dev. of 7 runs, 1 loop each)\n",
      "484 ms ± 15.7 ms per loop (mean ± std. dev. of 7 runs, 1 loop each)\n",
      "4.37 ms ± 140 µs per loop (mean ± std. dev. of 7 runs, 100 loops each)\n"
     ]
    }
   ],
   "source": [
    "def python_exp(x):\n",
    "    y = []\n",
    "    for xi in x:\n",
    "        y.append(np.exp(xi))\n",
    "    return y\n",
    "\n",
    "def numpy_exp(x):\n",
    "    y = np.empty(x.size)\n",
    "    for i in range(x.size):\n",
    "        y[i] = np.exp(x[i])\n",
    "    return y\n",
    "\n",
    "def numpy_exp_vec(x):\n",
    "    return np.exp(x)\n",
    "\n",
    "assert np.allclose(python_exp(x),numpy_exp(x))\n",
    "assert np.allclose(python_exp(x),numpy_exp_vec(x))\n",
    "\n",
    "%timeit python_exp(x)\n",
    "%timeit numpy_exp(x)\n",
    "%timeit numpy_exp_vec(x)"
   ]
  },
  {
   "cell_type": "markdown",
   "metadata": {},
   "source": [
    "Also works for a **conditional sum**:"
   ]
  },
  {
   "cell_type": "code",
   "execution_count": 16,
   "metadata": {},
   "outputs": [
    {
     "name": "stdout",
     "output_type": "stream",
     "text": [
      "253 ms ± 7.54 ms per loop (mean ± std. dev. of 7 runs, 1 loop each)\n",
      "5.86 ms ± 90.5 µs per loop (mean ± std. dev. of 7 runs, 100 loops each)\n",
      "8.65 ms ± 717 µs per loop (mean ± std. dev. of 7 runs, 100 loops each)\n"
     ]
    }
   ],
   "source": [
    "def python_exp_cond(x):\n",
    "    return [np.exp(xi) for xi in x if xi < 0.5]\n",
    "\n",
    "def numpy_exp_vec_cond(x):\n",
    "    y = np.exp(x[x < 0.5])\n",
    "    return y\n",
    "\n",
    "def numpy_exp_vec_cond_alt(x):\n",
    "    y = np.exp(x)[x < 0.5]\n",
    "    return y\n",
    "\n",
    "assert np.allclose(python_exp_cond(x),numpy_exp_vec_cond(x))\n",
    "assert np.allclose(python_exp_cond(x),numpy_exp_vec_cond_alt(x))\n",
    "\n",
    "%timeit python_exp_cond(x)\n",
    "%timeit numpy_exp_vec_cond(x)\n",
    "%timeit numpy_exp_vec_cond_alt(x)"
   ]
  },
  {
   "cell_type": "markdown",
   "metadata": {},
   "source": [
    "**Question:** Why do you think the speed-up is less pronounced in this case?"
   ]
  },
  {
   "cell_type": "markdown",
   "metadata": {},
   "source": [
    "### 3.2. <a id='toc3_2_'></a>[Tip 2: Operations are faster on rows than on columns](#toc0_)\n",
    "\n",
    "Generally, operate on the **outermost index**."
   ]
  },
  {
   "cell_type": "code",
   "execution_count": 17,
   "metadata": {},
   "outputs": [
    {
     "name": "stdout",
     "output_type": "stream",
     "text": [
      "15.2 ms ± 3.09 ms per loop (mean ± std. dev. of 7 runs, 100 loops each)\n",
      "31.6 ms ± 4.15 ms per loop (mean ± std. dev. of 7 runs, 10 loops each)\n"
     ]
    }
   ],
   "source": [
    "n = 1000\n",
    "x = np.random.uniform(size=(n,n))\n",
    "\n",
    "def add_rowsums(x):\n",
    "    mysum = 0\n",
    "    for i in range(x.shape[0]):\n",
    "        mysum += np.sum(np.exp(x[i,:]))\n",
    "    return mysum\n",
    "            \n",
    "def add_colsums(x):\n",
    "    mysum = 0\n",
    "    for j in range(x.shape[1]):\n",
    "        mysum += np.sum(np.exp(x[:,j]))\n",
    "    return mysum\n",
    "\n",
    "assert np.allclose(add_rowsums(x),add_colsums(x))\n",
    "            \n",
    "%timeit add_rowsums(x)\n",
    "%timeit add_colsums(x)"
   ]
  },
  {
   "cell_type": "markdown",
   "metadata": {},
   "source": [
    "<img src=\"https://github.com/NumEconCopenhagen/lectures-2019/raw/master/11/numpy_memory_layout.png\" alt=\"amdahls_law\" width=60% />"
   ]
  },
  {
   "cell_type": "markdown",
   "metadata": {},
   "source": [
    "The **memory structure can be changed manually** so that working on columns (innermost index) is better than working on rows (outermost index):"
   ]
  },
  {
   "cell_type": "code",
   "execution_count": 18,
   "metadata": {},
   "outputs": [
    {
     "name": "stdout",
     "output_type": "stream",
     "text": [
      "34.4 ms ± 4.37 ms per loop (mean ± std. dev. of 7 runs, 10 loops each)\n",
      "13.1 ms ± 369 µs per loop (mean ± std. dev. of 7 runs, 100 loops each)\n"
     ]
    }
   ],
   "source": [
    "y = np.array(x,order='F') # the default is order='C'\n",
    "%timeit add_rowsums(y)\n",
    "%timeit add_colsums(y)"
   ]
  },
  {
   "cell_type": "markdown",
   "metadata": {},
   "source": [
    "### 3.3. <a id='toc3_3_'></a>[Tip 3: Also use vectorized operations when it is a bit cumbersome](#toc0_)"
   ]
  },
  {
   "cell_type": "markdown",
   "metadata": {},
   "source": [
    "Consider the task of calculating the following **expected value**:\n",
    "\n",
    "$$\n",
    "\\begin{aligned}\n",
    "W(a)&=\\mathbb{E}\\left[\\sqrt{\\frac{a}{\\psi}+\\xi}\\right]\\\\\n",
    "\\psi,\\xi&\\in \\begin{cases}\n",
    "0.25 & \\text{with prob. }0.25\\\\\n",
    "0.5 & \\text{with prob. }0.25\\\\\n",
    "1.5 & \\text{with prob. }0.25\\\\\n",
    "1.75 & \\text{with prob. }0.25\n",
    "\\end{cases}\\end{aligned}\n",
    "$$\n",
    "\n",
    "for a vector of $a$-values."
   ]
  },
  {
   "cell_type": "markdown",
   "metadata": {},
   "source": [
    "**Setup:**"
   ]
  },
  {
   "cell_type": "code",
   "execution_count": 19,
   "metadata": {},
   "outputs": [],
   "source": [
    "N = 5000\n",
    "a_vec = np.linspace(0,10,N)\n",
    "\n",
    "xi_vec = np.array([0.25,0.5,1.5,1.75])\n",
    "psi_vec = np.array([0.25,0.5,1.5,1.75])\n",
    "\n",
    "xi_w_vec = np.ones(4)/4\n",
    "psi_w_vec = np.ones(4)/4"
   ]
  },
  {
   "cell_type": "markdown",
   "metadata": {},
   "source": [
    "**Loop based solution:**"
   ]
  },
  {
   "cell_type": "code",
   "execution_count": 20,
   "metadata": {},
   "outputs": [
    {
     "name": "stdout",
     "output_type": "stream",
     "text": [
      "136 ms ± 2.89 ms per loop (mean ± std. dev. of 7 runs, 10 loops each)\n"
     ]
    }
   ],
   "source": [
    "def loop(a_vec,xi_vec,psi_vec,xi_w_vec,psi_w_vec):\n",
    "    \n",
    "    w_vec = np.zeros(a_vec.size)\n",
    "    for i,a in enumerate(a_vec):        \n",
    "        for xi,xi_w in zip(xi_vec,xi_w_vec):\n",
    "            for psi,psi_w in zip(psi_vec,psi_w_vec):\n",
    "                m_plus = a/psi + xi\n",
    "                v_plus = np.sqrt(m_plus)\n",
    "                w_vec[i] += xi_w*psi_w*v_plus\n",
    "    \n",
    "    return w_vec\n",
    "        \n",
    "loop_result = loop(a_vec,xi_vec,psi_vec,xi_w_vec,psi_w_vec)  \n",
    "%timeit loop(a_vec,xi_vec,psi_vec,xi_w_vec,psi_w_vec)      "
   ]
  },
  {
   "attachments": {},
   "cell_type": "markdown",
   "metadata": {},
   "source": [
    "**Vectorized solution:**"
   ]
  },
  {
   "cell_type": "code",
   "execution_count": 21,
   "metadata": {},
   "outputs": [
    {
     "name": "stdout",
     "output_type": "stream",
     "text": [
      "941 µs ± 38.4 µs per loop (mean ± std. dev. of 7 runs, 1,000 loops each)\n"
     ]
    }
   ],
   "source": [
    "def vec(a,xi,psi,xi_w,psi_w):   \n",
    "    m_plus_vec = a[:,np.newaxis,np.newaxis]/psi[np.newaxis,:,np.newaxis] + xi[np.newaxis,np.newaxis,:]\n",
    "    v_plus_vec = np.sqrt(m_plus_vec)\n",
    "    w_mat = xi_w[np.newaxis,np.newaxis,:]*psi_w[np.newaxis,:,np.newaxis]*v_plus_vec\n",
    "    w_vec = np.sum(w_mat,axis=(1,2))\n",
    "    return w_vec\n",
    "\n",
    "vec_result = vec(a_vec,psi_vec,xi_vec,xi_w_vec,psi_w_vec)\n",
    "assert np.allclose(loop_result,vec_result)\n",
    "%timeit vec(a_vec,psi_vec,xi_vec,xi_w_vec,psi_w_vec)"
   ]
  },
  {
   "cell_type": "markdown",
   "metadata": {},
   "source": [
    "**Conclusion:** Much much faster."
   ]
  },
  {
   "cell_type": "markdown",
   "metadata": {},
   "source": [
    "## 4. <a id='toc4_'></a>[Numba](#toc0_)"
   ]
  },
  {
   "cell_type": "markdown",
   "metadata": {},
   "source": [
    "Writing **vectorized code can be cumbersome**, and in some cases it is impossible. Instead we can use the **numba** module. \n",
    "\n",
    "Adding the decorator `nb.njit` on top of a function tells numba to compile this function **to machine code just-in-time**.\n",
    "\n",
    "This takes some time when the function is called the first time, but subsequent calls are then a lot faster. \n",
    "\n",
    "*The input types can, however, not change between calls because numba infer them on the first call.*"
   ]
  },
  {
   "cell_type": "code",
   "execution_count": 22,
   "metadata": {},
   "outputs": [
    {
     "name": "stdout",
     "output_type": "stream",
     "text": [
      "1.29 s ± 47 ms per loop (mean ± std. dev. of 7 runs, 1 loop each)\n"
     ]
    }
   ],
   "source": [
    "def myfun_numpy_vec(x1,x2):\n",
    "\n",
    "    y = np.empty((1,x1.size))\n",
    "    I = x1 < 0.5\n",
    "\n",
    "    y[I] = np.sum(np.exp(x2*x1[I]),axis=0)\n",
    "    y[~I] = np.sum(np.log(x2*x1[~I]),axis=0)\n",
    "    \n",
    "    return y\n",
    "\n",
    "# setup\n",
    "x1 = np.random.uniform(size=10**6)\n",
    "x2 = np.random.uniform(size=np.int64(100)) # adjust the size of the problem\n",
    "x1_np = x1.reshape((1,x1.size))\n",
    "x2_np = x2.reshape((x2.size,1))\n",
    "\n",
    "# timing\n",
    "%timeit myfun_numpy_vec(x1_np,x2_np)"
   ]
  },
  {
   "cell_type": "markdown",
   "metadata": {},
   "source": [
    "**Numba:** The first call is slower, but the result is the same, and the subsequent calls are faster:"
   ]
  },
  {
   "cell_type": "code",
   "execution_count": 23,
   "metadata": {},
   "outputs": [
    {
     "name": "stdout",
     "output_type": "stream",
     "text": [
      "CPU times: total: 1.55 s\n",
      "Wall time: 1.65 s\n",
      "997 ms ± 71.9 ms per loop (mean ± std. dev. of 7 runs, 1 loop each)\n"
     ]
    }
   ],
   "source": [
    "@nb.njit\n",
    "def myfun_numba(x1,x2):\n",
    "\n",
    "    y = np.empty(x1.size)\n",
    "\n",
    "    for i in range(x1.size):\n",
    "        if x1[i] < 0.5:\n",
    "            y[i] = np.sum(np.exp(x2*x1[i]))\n",
    "        else:\n",
    "            y[i] = np.sum(np.log(x2*x1[i]))\n",
    "            \n",
    "    return y\n",
    "\n",
    "# call to just-in-time compile\n",
    "%time myfun_numba(x1,x2)\n",
    "\n",
    "# actual measurement\n",
    "%timeit myfun_numba(x1,x2)\n",
    "\n",
    "assert np.allclose(myfun_numpy_vec(x1_np,x2_np),myfun_numba(x1,x2))"
   ]
  },
  {
   "cell_type": "markdown",
   "metadata": {},
   "source": [
    "You can also call the Python-version:"
   ]
  },
  {
   "cell_type": "code",
   "execution_count": 24,
   "metadata": {},
   "outputs": [
    {
     "name": "stdout",
     "output_type": "stream",
     "text": [
      "7.9 s ± 91.5 ms per loop (mean ± std. dev. of 7 runs, 1 loop each)\n"
     ]
    }
   ],
   "source": [
    "%timeit myfun_numba.py_func(x1,x2)"
   ]
  },
  {
   "cell_type": "markdown",
   "metadata": {},
   "source": [
    "**Caveats:** Only a limited number of Python and Numpy features are supported inside just-in-time compiled functions.\n",
    "\n",
    "- [Supported Python features](https://numba.pydata.org/numba-doc/dev/reference/pysupported.html)\n",
    "- [Supported Numpy features](https://numba.pydata.org/numba-doc/dev/reference/numpysupported.html)\n"
   ]
  },
  {
   "cell_type": "markdown",
   "metadata": {},
   "source": [
    "### 4.1. <a id='toc4_1_'></a>[Further speed-up](#toc0_)"
   ]
  },
  {
   "cell_type": "markdown",
   "metadata": {},
   "source": [
    "**Further speed up:** Use\n",
    "\n",
    "1. parallelization (with ``prange``), and \n",
    "1. faster but less precise math (with ``fastmath``) (not always a speed-up)"
   ]
  },
  {
   "cell_type": "code",
   "execution_count": 25,
   "metadata": {},
   "outputs": [
    {
     "name": "stdout",
     "output_type": "stream",
     "text": [
      "CPU times: total: 1.5 s\n",
      "Wall time: 200 ms\n",
      "206 ms ± 16.2 ms per loop (mean ± std. dev. of 7 runs, 1 loop each)\n"
     ]
    }
   ],
   "source": [
    "@nb.njit(parallel=True)\n",
    "def myfun_numba_par(x1,x2):\n",
    "\n",
    "    y = np.empty(x1.size)\n",
    "    \n",
    "    for i in nb.prange(x1.size): # in parallel across threads\n",
    "        if x1[i] < 0.5:\n",
    "            y[i] = np.sum(np.exp(x2*x1[i]))\n",
    "        else:\n",
    "            y[i] = np.sum(np.log(x2*x1[i]))\n",
    "            \n",
    "    return y\n",
    "\n",
    "assert np.allclose(myfun_numpy_vec(x1_np,x2_np),myfun_numba_par(x1,x2))\n",
    "%time myfun_numba_par(x1,x2)\n",
    "%timeit myfun_numba_par(x1,x2)"
   ]
  },
  {
   "cell_type": "code",
   "execution_count": 26,
   "metadata": {},
   "outputs": [
    {
     "name": "stdout",
     "output_type": "stream",
     "text": [
      "CPU times: total: 1.44 s\n",
      "Wall time: 198 ms\n",
      "198 ms ± 7.61 ms per loop (mean ± std. dev. of 7 runs, 10 loops each)\n"
     ]
    }
   ],
   "source": [
    "@nb.njit(parallel=True,fastmath=True)\n",
    "def myfun_numba_par_fast(x1,x2):\n",
    "\n",
    "    y = np.empty(x1.size)\n",
    "\n",
    "    for i in nb.prange(x1.size): # in parallel across threads\n",
    "        if x1[i] < 0.5:\n",
    "            y[i] = np.sum(np.exp(x2*x1[i]))\n",
    "        else:\n",
    "            y[i] = np.sum(np.log(x2*x1[i]))\n",
    "            \n",
    "    return y\n",
    "\n",
    "assert np.allclose(myfun_numpy_vec(x1_np,x2_np),myfun_numba_par_fast(x1,x2))\n",
    "%time myfun_numba_par_fast(x1,x2)\n",
    "%timeit myfun_numba_par_fast(x1,x2)"
   ]
  },
  {
   "cell_type": "markdown",
   "metadata": {},
   "source": [
    "### 4.2. <a id='toc4_2_'></a>[Calling an optimizer](#toc0_)"
   ]
  },
  {
   "cell_type": "markdown",
   "metadata": {},
   "source": [
    "Using solver from `QuantEcon` (see [documentation](https://quanteconpy.readthedocs.io/en/latest/index.html))."
   ]
  },
  {
   "cell_type": "code",
   "execution_count": 27,
   "metadata": {},
   "outputs": [],
   "source": [
    "import quantecon as qe"
   ]
  },
  {
   "cell_type": "code",
   "execution_count": 28,
   "metadata": {},
   "outputs": [],
   "source": [
    "n = 4000\n",
    "rng = np.random.default_rng(1234)\n",
    "alphas = rng.uniform(size=n)\n",
    "betas = rng.uniform(size=n)\n",
    "gammas = rng.uniform(size=n)"
   ]
  },
  {
   "cell_type": "code",
   "execution_count": 29,
   "metadata": {},
   "outputs": [],
   "source": [
    "@nb.njit\n",
    "def solver_nb(alpha,beta,gamma):\n",
    "\n",
    "    def obj(x,alpha,beta,gamma):\n",
    "        return (x[0]-alpha)**2 + (x[1]-beta)**2 + (x[2]-gamma)**2\n",
    "\n",
    "    res = qe.optimize.nelder_mead(obj,np.array([0.0,0.0,0.0]),args=(alpha,beta,gamma))\n",
    "\n",
    "    return res.x"
   ]
  },
  {
   "cell_type": "markdown",
   "metadata": {},
   "source": [
    "**Serial version:**"
   ]
  },
  {
   "cell_type": "code",
   "execution_count": 30,
   "metadata": {},
   "outputs": [
    {
     "name": "stdout",
     "output_type": "stream",
     "text": [
      "CPU times: total: 15.8 s\n",
      "Wall time: 15.9 s\n",
      "CPU times: total: 3.52 s\n",
      "Wall time: 3.54 s\n"
     ]
    }
   ],
   "source": [
    "@nb.njit\n",
    "def serial_solver_nb(alphas,betas,gammas):\n",
    "\n",
    "    n = alphas.size\n",
    "    xopts = np.zeros((n,3))\n",
    "\n",
    "    for i in range(n):\n",
    "        xopts[i,:] = solver_nb(alphas[i],betas[i],gammas[i])\n",
    "\n",
    "%time serial_solver_nb(alphas,betas,gammas)\n",
    "%time serial_solver_nb(alphas,betas,gammas)"
   ]
  },
  {
   "cell_type": "markdown",
   "metadata": {},
   "source": [
    "**Parallel version:**"
   ]
  },
  {
   "cell_type": "code",
   "execution_count": 31,
   "metadata": {},
   "outputs": [
    {
     "name": "stdout",
     "output_type": "stream",
     "text": [
      "CPU times: total: 16.5 s\n",
      "Wall time: 10.4 s\n",
      "CPU times: total: 7.02 s\n",
      "Wall time: 955 ms\n"
     ]
    }
   ],
   "source": [
    "@nb.njit(parallel=True)\n",
    "def parallel_solver_nb(alphas,betas,gammas):\n",
    "\n",
    "    n = alphas.size\n",
    "    xopts = np.zeros((n,3))\n",
    "\n",
    "    for i in nb.prange(n):\n",
    "        xopts[i,:] = solver_nb(alphas[i],betas[i],gammas[i])\n",
    "\n",
    "%time parallel_solver_nb(alphas,betas,gammas)\n",
    "%time parallel_solver_nb(alphas,betas,gammas)"
   ]
  },
  {
   "cell_type": "markdown",
   "metadata": {},
   "source": [
    "**Alternative parallization:** Look at the `joblib` package"
   ]
  }
 ],
 "metadata": {
  "kernelspec": {
   "display_name": "base",
   "language": "python",
   "name": "python3"
  },
  "language_info": {
   "codemirror_mode": {
    "name": "ipython",
    "version": 3
   },
   "file_extension": ".py",
   "mimetype": "text/x-python",
   "name": "python",
   "nbconvert_exporter": "python",
   "pygments_lexer": "ipython3",
   "version": "3.11.5"
  },
  "toc-autonumbering": true,
  "vscode": {
   "interpreter": {
    "hash": "47ef90cdf3004d3f859f1fb202523c65c07ba7c22eefd261b181f4744e2d0403"
   }
  }
 },
 "nbformat": 4,
 "nbformat_minor": 4
}
