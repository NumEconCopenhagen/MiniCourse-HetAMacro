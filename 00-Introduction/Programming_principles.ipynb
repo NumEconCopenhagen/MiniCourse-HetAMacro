{
 "cells": [
  {
   "cell_type": "code",
   "execution_count": 4,
   "metadata": {},
   "outputs": [],
   "source": [
    "import numpy as np"
   ]
  },
  {
   "cell_type": "markdown",
   "metadata": {},
   "source": [
    "**References:**"
   ]
  },
  {
   "cell_type": "code",
   "execution_count": 5,
   "metadata": {},
   "outputs": [
    {
     "name": "stdout",
     "output_type": "stream",
     "text": [
      "[3 3 3]\n"
     ]
    }
   ],
   "source": [
    "a = np.array([1,2,3])\n",
    "b = a\n",
    "c = a[1:] # slicing\n",
    "b[0] = 3 # indexing\n",
    "c[0] = 3\n",
    "print(a)"
   ]
  },
  {
   "cell_type": "markdown",
   "metadata": {},
   "source": [
    "With a `list`, a slice creates a copy:"
   ]
  },
  {
   "cell_type": "code",
   "execution_count": 6,
   "metadata": {},
   "outputs": [
    {
     "name": "stdout",
     "output_type": "stream",
     "text": [
      "[3, 2, 3]\n"
     ]
    }
   ],
   "source": [
    "a = [1,2,3]\n",
    "b = a\n",
    "c = a[1:] # slicing\n",
    "b[0] = 3 # indexing\n",
    "c[0] = 3\n",
    "print(a)"
   ]
  },
  {
   "cell_type": "markdown",
   "metadata": {},
   "source": [
    "**Mutables:**"
   ]
  },
  {
   "cell_type": "code",
   "execution_count": 7,
   "metadata": {},
   "outputs": [
    {
     "name": "stdout",
     "output_type": "stream",
     "text": [
      "[3 4 5]\n"
     ]
    }
   ],
   "source": [
    "x = np.array([1,2,3])\n",
    "y = x\n",
    "x += 1\n",
    "x[:] = x + 1\n",
    "x = x + 1\n",
    "print(y)"
   ]
  },
  {
   "cell_type": "markdown",
   "metadata": {},
   "source": [
    "**Scope and functions**"
   ]
  },
  {
   "cell_type": "code",
   "execution_count": 8,
   "metadata": {},
   "outputs": [
    {
     "name": "stdout",
     "output_type": "stream",
     "text": [
      "2\n",
      "3\n"
     ]
    }
   ],
   "source": [
    "a = 1\n",
    "def f(x):\n",
    "\treturn x+a\n",
    "print(f(1))\n",
    "a = 2\n",
    "print(f(1))"
   ]
  },
  {
   "cell_type": "markdown",
   "metadata": {},
   "source": [
    "**Looping:**"
   ]
  },
  {
   "cell_type": "code",
   "execution_count": 9,
   "metadata": {},
   "outputs": [],
   "source": [
    "evaluate = lambda x: np.nan\n",
    "check = lambda x: False\n",
    "update = lambda x,y: np.nan "
   ]
  },
  {
   "cell_type": "code",
   "execution_count": 10,
   "metadata": {},
   "outputs": [],
   "source": [
    "n = 10\n",
    "x0 = np.nan"
   ]
  },
  {
   "cell_type": "code",
   "execution_count": 11,
   "metadata": {},
   "outputs": [
    {
     "name": "stdout",
     "output_type": "stream",
     "text": [
      "did not converge\n"
     ]
    }
   ],
   "source": [
    "try:\n",
    "\n",
    "    x = x0\n",
    "    for i in range(n):\n",
    "        y = evaluate(x)\n",
    "        if check(y): break\n",
    "        x = update(x,y)\n",
    "    else:\n",
    "        raise ValueError('did not converge')\n",
    "    \n",
    "except ValueError as e:\n",
    "    print(e)    "
   ]
  },
  {
   "cell_type": "code",
   "execution_count": 12,
   "metadata": {},
   "outputs": [
    {
     "name": "stdout",
     "output_type": "stream",
     "text": [
      "did not converge\n"
     ]
    }
   ],
   "source": [
    "try:\n",
    "\n",
    "    x = x0\n",
    "    i = 0\n",
    "    while True:\n",
    "        y = evaluate(x)\n",
    "        if check(y): break\n",
    "        x = update(x,y)\n",
    "        i += 1\n",
    "        if i >= n: raise ValueError('did not converge')\n",
    "    \n",
    "except ValueError as e:\n",
    "    print(e)    "
   ]
  },
  {
   "cell_type": "markdown",
   "metadata": {},
   "source": [
    "**Floating point arithmetics:**"
   ]
  },
  {
   "cell_type": "code",
   "execution_count": 14,
   "metadata": {},
   "outputs": [
    {
     "name": "stdout",
     "output_type": "stream",
     "text": [
      "False\n",
      "True\n",
      "True\n",
      "True\n",
      "True\n",
      "True\n"
     ]
    }
   ],
   "source": [
    "print(0.1 + 0.2 == 0.3)\n",
    "print(0.5 + 0.5 == 1.0)\n",
    "print(np.isclose(0.1+0.2,0.3))\n",
    "print(np.isclose(1e-200*1e200*1e200*1e-200,1.0))\n",
    "print(np.isinf(1e-200*(1e200*1e200)*1e-200))\n",
    "print(np.isclose(1e200*(1e-200*1e-200)*1e200,0.0))"
   ]
  },
  {
   "cell_type": "markdown",
   "metadata": {},
   "source": [
    "**Random numbers:**"
   ]
  },
  {
   "cell_type": "code",
   "execution_count": 19,
   "metadata": {},
   "outputs": [
    {
     "name": "stdout",
     "output_type": "stream",
     "text": [
      "x = array([-0.98912135, -0.36778665,  1.28792526,  0.19397442,  0.9202309 ])\n",
      "y = array([ 0.57710379, -0.63646365,  0.54195222, -0.31659545, -0.32238912])\n",
      "z = array([-0.98912135, -0.36778665,  1.28792526,  0.19397442,  0.9202309 ])\n"
     ]
    }
   ],
   "source": [
    "rng = np.random.default_rng(123)\n",
    "s = rng.bit_generator.state\n",
    "x = rng.normal(size=5)\n",
    "y = rng.normal(size=5)\n",
    "rng.bit_generator.state = s\n",
    "z = rng.normal(size=5)\n",
    "\n",
    "print(f'{x = }')\n",
    "print(f'{y = }')\n",
    "print(f'{z = }')"
   ]
  }
 ],
 "metadata": {
  "kernelspec": {
   "display_name": "base",
   "language": "python",
   "name": "python3"
  },
  "language_info": {
   "codemirror_mode": {
    "name": "ipython",
    "version": 3
   },
   "file_extension": ".py",
   "mimetype": "text/x-python",
   "name": "python",
   "nbconvert_exporter": "python",
   "pygments_lexer": "ipython3",
   "version": "3.11.3"
  }
 },
 "nbformat": 4,
 "nbformat_minor": 2
}
