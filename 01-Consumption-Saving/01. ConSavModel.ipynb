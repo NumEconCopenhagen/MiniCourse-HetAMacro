{
 "cells": [
  {
   "cell_type": "markdown",
   "metadata": {},
   "source": [
    "# Consumption-Saving Model"
   ]
  },
  {
   "cell_type": "markdown",
   "metadata": {},
   "source": [
    "**Table of contents**<a id='toc0_'></a>    \n",
    "- 1. [Interpolation](#toc1_)    \n",
    "  - 1.1. [Example](#toc1_1_)    \n",
    "- 2. [Setup model](#toc2_)    \n",
    "- 3. [Solve - value function interation (vfi)](#toc3_)    \n",
    "  - 3.1. [Value and consumption functions across periods](#toc3_1_)    \n",
    "  - 3.2. [Initial period](#toc3_2_)    \n",
    "  - 3.3. [MPC](#toc3_3_)    \n",
    "- 4. [Simulate](#toc4_)    \n",
    "  - 4.1. [Income](#toc4_1_)    \n",
    "  - 4.2. [Asset distribution](#toc4_2_)    \n",
    "  - 4.3. [Intertemporal MPCs](#toc4_3_)    \n",
    "- 5. [Solve - endogenous grid method (egm)](#toc5_)    \n",
    "  - 5.1. [Compare solution methods](#toc5_1_)    \n",
    "  - 5.2. [MPC](#toc5_2_)    \n",
    "  - 5.3. [Intertemporal MPCs](#toc5_3_)    \n",
    "\n",
    "<!-- vscode-jupyter-toc-config\n",
    "\tnumbering=true\n",
    "\tanchor=true\n",
    "\tflat=false\n",
    "\tminLevel=2\n",
    "\tmaxLevel=6\n",
    "\t/vscode-jupyter-toc-config -->\n",
    "<!-- THIS CELL WILL BE REPLACED ON TOC UPDATE. DO NOT WRITE YOUR TEXT IN THIS CELL -->"
   ]
  },
  {
   "cell_type": "markdown",
   "metadata": {},
   "source": [
    "**Content:** Solves and simulates a simple consumption-saving model.\n",
    "\n",
    "**Solution methods:** *Value function iteration* (`vfi`) and the *endogenous grid-point method* (`egm`)."
   ]
  },
  {
   "cell_type": "markdown",
   "metadata": {},
   "source": [
    "**Packages you should know:**\n",
    "\n",
    "1. [quantecon](https://quantecon.org/)\n",
    "2. [EconModel](https://github.com/NumEconCopenhagen/EconModel) ([notebooks](https://github.com/NumEconCopenhagen/EconModelNotebooks))\n",
    "2. [consav](https://github.com/NumEconCopenhagen/ConsumptionSaving) ([notebooks](https://github.com/NumEconCopenhagen/ConsumptionSavingNotebooks))"
   ]
  },
  {
   "cell_type": "code",
   "execution_count": 1,
   "metadata": {},
   "outputs": [],
   "source": [
    "%load_ext autoreload\n",
    "%autoreload 2\n",
    "\n",
    "import numpy as np\n",
    "import numba as nb\n",
    "\n",
    "import matplotlib.pyplot as plt   \n",
    "colors = plt.rcParams['axes.prop_cycle'].by_key()['color']\n",
    "plt.rcParams.update({\"axes.grid\" : True, \"grid.color\": \"black\", \"grid.alpha\":\"0.25\", \"grid.linestyle\": \"--\"})\n",
    "plt.rcParams.update({'font.size': 14})\n",
    "\n",
    "from ConSavModel import ConSavModelClass"
   ]
  },
  {
   "cell_type": "markdown",
   "metadata": {},
   "source": [
    "## 1. <a id='toc1_'></a>[Interpolation](#toc0_)"
   ]
  },
  {
   "cell_type": "markdown",
   "metadata": {},
   "source": [
    "**Intermezzo:** To consider dynamic optimization problems, we will need to think about *interpolation*."
   ]
  },
  {
   "cell_type": "markdown",
   "metadata": {},
   "source": [
    "**Inputs:**\n",
    "\n",
    "1. Sorted vector of known points (grid vector), $G = \\{G_i\\}_{i=0}^{n-1}$.\n",
    "2. Vector of known values (at these points), $F = \\{F_i = f(G_i)\\}_{i=0}^{n-1}$.\n",
    "3. A new point, `x`, not in $G$."
   ]
  },
  {
   "cell_type": "markdown",
   "metadata": {},
   "source": [
    "**Algorithm:** `linear_interpolate()`\n",
    "1. Determine `i`  such that\n",
    "\n",
    "$$\n",
    "G_i \\leq x < G_{i+1}\n",
    "$$\n",
    "\n",
    "2. Compute interpolated value by\n",
    "\n",
    "$$\n",
    "y =  F_{i} + \\frac{F_{i+1}-F_{i}}{G_{i+1}-G_{i}}(x-G_{i})\n",
    "$$"
   ]
  },
  {
   "cell_type": "markdown",
   "metadata": {},
   "source": [
    "**Extrapolation:**\n",
    "\n",
    "1. Below where $x < G_1$ use $i = 0$.\n",
    "\n",
    "$$\n",
    "y =  F_{0} + \\frac{F_{1}-F_{0}}{G_{1}-G_{0}}(x-G_{0})\n",
    "$$\n",
    "\n",
    "2. Above where $x > G_{n-2}$ (use $i = n-2$)\n",
    "\n",
    "$$\n",
    "y =  F_{n-2} + \\frac{F_{n-1}-F_{n-2}}{G_{n-1}-G_{n-2}}(x-G_{n-2})\n",
    "$$"
   ]
  },
  {
   "cell_type": "code",
   "execution_count": 2,
   "metadata": {},
   "outputs": [],
   "source": [
    "def linear_interpolate(G,F,x):\n",
    "    \"\"\" linear interpolation (and extrapolation)\n",
    "    \n",
    "    Args:\n",
    "    \n",
    "        G (np.ndarray): known points\n",
    "        F (np.ndarray): known values\n",
    "        x (float): point to be interpolated\n",
    "        \n",
    "    Returns:\n",
    "    \n",
    "        y (float): intepolated value\n",
    "    \n",
    "    \"\"\"\n",
    "    \n",
    "    assert len(G) == len(F)\n",
    "    n = len(G)\n",
    "    \n",
    "    # a. find index in known points\n",
    "    if x < G[1]: # exprapolation below\n",
    "    \n",
    "        i = 0\n",
    "    \n",
    "    elif x > G[-2]: # extrapolation above\n",
    "        \n",
    "        i = n-2\n",
    "\n",
    "    else: # true interpolation\n",
    "        \n",
    "        # search\n",
    "        i = 0 \n",
    "        while x >= G[i+1] and i < n-1:\n",
    "            i += 1\n",
    "        \n",
    "        # check\n",
    "        assert x >= G[i]\n",
    "        assert x < G[i+1]\n",
    "\n",
    "    # b. interpolate\n",
    "    diff_G = G[i+1]-G[i]\n",
    "    diff_F = F[i+1]-F[i]\n",
    "    slope = diff_F/diff_G\n",
    "    y = F[i] + slope*(x-G[i])\n",
    "    \n",
    "    return y"
   ]
  },
  {
   "cell_type": "markdown",
   "metadata": {},
   "source": [
    "### 1.1. <a id='toc1_1_'></a>[Example](#toc0_)"
   ]
  },
  {
   "cell_type": "markdown",
   "metadata": {},
   "source": [
    "Consider the following function and known points:"
   ]
  },
  {
   "cell_type": "code",
   "execution_count": 3,
   "metadata": {},
   "outputs": [],
   "source": [
    "f = lambda x: (x-3)**3 - 3*x**2 + 5*x\n",
    "\n",
    "G = np.linspace(-5,10,6)\n",
    "F = f(G)"
   ]
  },
  {
   "cell_type": "markdown",
   "metadata": {},
   "source": [
    "True function values at fine grid:"
   ]
  },
  {
   "cell_type": "code",
   "execution_count": 4,
   "metadata": {},
   "outputs": [],
   "source": [
    "grid = np.linspace(-7,12,500) # 500 makes it \"fine\"\n",
    "F_true = f(grid)"
   ]
  },
  {
   "cell_type": "markdown",
   "metadata": {},
   "source": [
    "Simple test:"
   ]
  },
  {
   "cell_type": "code",
   "execution_count": 5,
   "metadata": {},
   "outputs": [
    {
     "name": "stdout",
     "output_type": "stream",
     "text": [
      "x = -2.3 -> true = -176.2, interpolated = -193.5\n",
      "x =  4.1 -> true =  -28.6, interpolated =  -27.7\n",
      "x =  7.5 -> true =  -40.1, interpolated =  -24.5\n",
      "x =  9.1 -> true =   24.1, interpolated =   50.7\n"
     ]
    },
    {
     "data": {
      "image/png": "[encoded data removed]",
      "text/plain": [
       "<Figure size 640x480 with 1 Axes>"
      ]
     },
     "metadata": {},
     "output_type": "display_data"
    }
   ],
   "source": [
    "# interpolate\n",
    "X = [-2.3,4.1,7.5,9.1]\n",
    "F_approx = []\n",
    "for x in X:\n",
    "    true = f(x)\n",
    "    y = linear_interpolate(G,F,x)\n",
    "    F_approx.append(y)\n",
    "    print(f'x = {x:4.1f} -> true = {true:6.1f}, interpolated = {y:6.1f}')\n",
    "\n",
    "# plot\n",
    "fig = plt.figure()\n",
    "ax = fig.add_subplot(1,1,1)\n",
    "ax.plot(G,F,'o',label='known points')\n",
    "ax.plot(grid,F_true,'-',lw=1,label='true function')\n",
    "ax.plot(X,F_approx,'s',lw=1,label='interpolated')\n",
    "ax.legend(loc='lower right',facecolor='white',frameon=True);    "
   ]
  },
  {
   "cell_type": "markdown",
   "metadata": {},
   "source": [
    "**Consav:**"
   ]
  },
  {
   "cell_type": "code",
   "execution_count": 9,
   "metadata": {},
   "outputs": [
    {
     "data": {
      "image/png": "[encoded data removed]",
      "text/plain": [
       "<Figure size 640x480 with 1 Axes>"
      ]
     },
     "metadata": {},
     "output_type": "display_data"
    }
   ],
   "source": [
    "from consav.linear_interp import interp_1d\n",
    "\n",
    "# b. interpolate\n",
    "F_approx_consav = np.array([interp_1d(G,F,xi) for xi in X])\n",
    "\n",
    "# c. plot\n",
    "fig = plt.figure()\n",
    "ax = fig.add_subplot(1,1,1)\n",
    "ax.plot(G,F,'o',label='known points')\n",
    "ax.plot(grid,F_true,'-',lw=1,label='true function')\n",
    "ax.plot(X,F_approx_consav,'s',lw=1,label='interpolated values')\n",
    "ax.legend(loc='lower right',facecolor='white',frameon=True);"
   ]
  },
  {
   "cell_type": "markdown",
   "metadata": {},
   "source": [
    "**Task:** Increase the number of *known* points in the cell below and see what happens."
   ]
  },
  {
   "cell_type": "code",
   "execution_count": 14,
   "metadata": {},
   "outputs": [
    {
     "data": {
      "image/png": "[encoded data removed]",
      "text/plain": [
       "<Figure size 640x480 with 1 Axes>"
      ]
     },
     "metadata": {},
     "output_type": "display_data"
    }
   ],
   "source": [
    "# a. known\n",
    "G_ = np.linspace(-5,10,6)\n",
    "F_ = f(G_)\n",
    "\n",
    "# b. interpolation\n",
    "F_approx_consav = np.array([interp_1d(G_,F_,xi) for xi in grid])\n",
    "\n",
    "# c. plot\n",
    "fig = plt.figure()\n",
    "ax = fig.add_subplot(1,1,1)\n",
    "ax.plot(grid,F_true,'-',lw=1,label='true function')\n",
    "ax.plot(grid,F_approx_consav,'-',lw=1,label='interpolated function')\n",
    "ax.legend(loc='lower right',facecolor='white',frameon=True);"
   ]
  },
  {
   "cell_type": "markdown",
   "metadata": {},
   "source": [
    "**Note:**\n",
    "\n",
    "1. Linear interpolation works best when the function does not curve too much.\n",
    "2. *Extrapolation* is much worse than *interpolation*."
   ]
  },
  {
   "cell_type": "markdown",
   "metadata": {},
   "source": [
    "**Multiple dimensions:** Same principle."
   ]
  },
  {
   "cell_type": "markdown",
   "metadata": {},
   "source": [
    "## 2. <a id='toc2_'></a>[Setup model](#toc0_)"
   ]
  },
  {
   "cell_type": "code",
   "execution_count": null,
   "metadata": {},
   "outputs": [],
   "source": [
    "model_vfi = ConSavModelClass()"
   ]
  },
  {
   "cell_type": "markdown",
   "metadata": {},
   "source": [
    "**Question:** Which methods have been called now?"
   ]
  },
  {
   "cell_type": "code",
   "execution_count": null,
   "metadata": {},
   "outputs": [],
   "source": [
    "# unpack for easy access\n",
    "par = model_vfi.par\n",
    "sol = model_vfi.sol\n",
    "sim = model_vfi.sim"
   ]
  },
  {
   "cell_type": "markdown",
   "metadata": {},
   "source": [
    "**Grids:**"
   ]
  },
  {
   "cell_type": "code",
   "execution_count": null,
   "metadata": {},
   "outputs": [],
   "source": [
    "fig = plt.figure()\n",
    "ax = fig.add_subplot(1,1,1)\n",
    "\n",
    "z_grid,a_grid = np.meshgrid(par.z_grid,par.a_grid,indexing='ij')\n",
    "ax.scatter(z_grid,a_grid,2)\n",
    "\n",
    "ax.set_yscale('log')\n",
    "ax.set_xlabel('$z_t$')\n",
    "ax.set_ylabel('$a_{t-1}$')\n",
    "\n",
    "fig.suptitle('Grids for $z_t$ and $a_{t-1}$')\n",
    "fig.tight_layout(pad=0.5)\n",
    "fig.savefig('figs/grids.pdf')"
   ]
  },
  {
   "cell_type": "markdown",
   "metadata": {},
   "source": [
    "**Transition matrix for $z_t$:**"
   ]
  },
  {
   "cell_type": "code",
   "execution_count": null,
   "metadata": {},
   "outputs": [],
   "source": [
    "fig = plt.figure(figsize=(6,6))\n",
    "ax = fig.add_subplot(1,1,1)\n",
    "ax.grid(False)\n",
    "h = ax.matshow(par.z_trans,cmap='Greys',alpha=0.5)\n",
    "\n",
    "for (i, j), value in np.ndenumerate(par.z_trans):\n",
    "    ax.text(j, i, f'{value:0.3f}', ha='center', va='center')\n",
    "    \n",
    "z_labels = [f'{z:.2f}' for z in par.z_grid]\n",
    "xaxis = np.arange(par.z_grid.size)\n",
    "ax.set_xticks(xaxis)\n",
    "ax.set_xticklabels(z_labels) \n",
    "ax.set_yticks(xaxis)\n",
    "ax.set_yticklabels(z_labels) \n",
    "\n",
    "ax.set_xlabel('$z_{t}$')\n",
    "ax.set_ylabel('$z_{t-1}$')\n",
    "\n",
    "fig.suptitle('Transition probabilities')\n",
    "fig.tight_layout(pad=0.75)\n",
    "fig.savefig('figs/z_trans.pdf')"
   ]
  },
  {
   "cell_type": "markdown",
   "metadata": {},
   "source": [
    "**Marginal CDFs:**"
   ]
  },
  {
   "cell_type": "code",
   "execution_count": null,
   "metadata": {},
   "outputs": [],
   "source": [
    "fig = plt.figure()\n",
    "ax = fig.add_subplot(1,1,1)\n",
    "ax.set_title('CDF of $z_{t+1}$ given $z_t$')\n",
    "for i_z in range(par.Nz):\n",
    "    ax.plot(par.z_grid,par.z_trans_cumsum[i_z],'-o',label=f'$z_t={par.z_grid[i_z]:.2f}$')\n",
    "ax.set_xlabel('$z_{t+1}$')\n",
    "ax.set_ylabel('cdf')\n",
    "ax.legend()\n",
    "fig.tight_layout(pad=0.5)"
   ]
  },
  {
   "cell_type": "markdown",
   "metadata": {},
   "source": [
    "## 3. <a id='toc3_'></a>[Solve - value function interation (vfi)](#toc0_)"
   ]
  },
  {
   "cell_type": "code",
   "execution_count": null,
   "metadata": {},
   "outputs": [],
   "source": [
    "model_vfi.solve(do_print=True,algo='vfi')"
   ]
  },
  {
   "cell_type": "markdown",
   "metadata": {},
   "source": [
    "### 3.1. <a id='toc3_1_'></a>[Value and consumption functions across periods](#toc0_)"
   ]
  },
  {
   "cell_type": "code",
   "execution_count": null,
   "metadata": {},
   "outputs": [],
   "source": [
    "fig = plt.figure()\n",
    "ax = fig.add_subplot(1,1,1)\n",
    "\n",
    "for k in range(par.T):\n",
    "    t = par.T-1-k\n",
    "    ax.plot(par.a_grid,sol.v[t,1,:],label=f'{t = }')\n",
    "    \n",
    "ax.legend(frameon=True,ncol=3)\n",
    "ax.set_xlabel('$a_{t-1}$')\n",
    "ax.set_xlim([par.a_grid[0],par.a_grid[-1]])\n",
    "\n",
    "fig.suptitle('value functions')\n",
    "fig.tight_layout(pad=0.5)\n",
    "fig.savefig('figs/v_funcs.pdf')"
   ]
  },
  {
   "cell_type": "code",
   "execution_count": null,
   "metadata": {},
   "outputs": [],
   "source": [
    "fig = plt.figure()\n",
    "ax = fig.add_subplot(1,1,1)\n",
    "\n",
    "for k in range(par.T):\n",
    "    t = par.T-1-k\n",
    "    ax.plot(par.a_grid,sol.c[t,1,:],label=f'{t = }')\n",
    "    \n",
    "ax.legend(frameon=True,ncol=3)\n",
    "ax.set_xlabel('$a_{t-1}$')\n",
    "ax.set_xlim([par.a_grid[0],par.a_grid[-1]])\n",
    "\n",
    "fig.suptitle('consumption functions')\n",
    "fig.tight_layout(pad=0.5)\n",
    "fig.savefig('figs/c_funcs.pdf')"
   ]
  },
  {
   "cell_type": "markdown",
   "metadata": {},
   "source": [
    "### 3.2. <a id='toc3_2_'></a>[Initial period](#toc0_)"
   ]
  },
  {
   "cell_type": "markdown",
   "metadata": {},
   "source": [
    "**Low risk comparison model:**"
   ]
  },
  {
   "cell_type": "code",
   "execution_count": null,
   "metadata": {},
   "outputs": [],
   "source": [
    "model_vfi_low_risk = model_vfi.copy()\n",
    "model_vfi_low_risk.par.Delta /= 2.0 # half the risk\n",
    "model_vfi_low_risk.allocate() # recalculate grids\n",
    "model_vfi_low_risk.solve(do_print=False,algo='vfi')"
   ]
  },
  {
   "cell_type": "markdown",
   "metadata": {},
   "source": [
    "**Permanent income hypothethis behavior:**"
   ]
  },
  {
   "cell_type": "code",
   "execution_count": null,
   "metadata": {},
   "outputs": [],
   "source": [
    "PIH_fac = (par.beta*(1+par.r))**(1/par.sigma)*(1+par.r)**(-1)\n",
    "PIH_MPC = (1-PIH_fac)/(1-PIH_fac**par.T)\n",
    "\n",
    "s0 = (1+par.r)*par.a_grid\n",
    "h0 = par.w + par.w/(1+par.r) + par.w/(1+par.r)**2\n",
    "\n",
    "c_PIH = PIH_MPC*(s0+h0)\n",
    "a_PIH = (1+par.r)*par.a_grid + par.w - c_PIH"
   ]
  },
  {
   "cell_type": "markdown",
   "metadata": {},
   "source": [
    "**Consumption function:**"
   ]
  },
  {
   "cell_type": "code",
   "execution_count": null,
   "metadata": {},
   "outputs": [],
   "source": [
    "fig = plt.figure()\n",
    "ax = fig.add_subplot(1,1,1)\n",
    "\n",
    "ax.plot(par.a_grid,sol.c[0,1,:],label='baseline')\n",
    "ax.plot(par.a_grid,model_vfi_low_risk.sol.c[0,1,:],label='low risk')\n",
    "ax.plot(par.a_grid,c_PIH,label='PIH',color='black',linestyle='--')\n",
    "\n",
    "ax.legend(frameon=True)\n",
    "ax.set_xlabel('$a_{t-1}$')\n",
    "ax.set_ylabel('$c_t$')\n",
    "ax.set_xlim([par.a_grid[0],par.a_grid[-1]])\n",
    "\n",
    "fig.suptitle('consumption function in $t=0$')\n",
    "fig.tight_layout(pad=0.5)\n",
    "fig.savefig('figs/c_func.pdf')"
   ]
  },
  {
   "cell_type": "markdown",
   "metadata": {},
   "source": [
    "**Savings function:**"
   ]
  },
  {
   "cell_type": "code",
   "execution_count": null,
   "metadata": {},
   "outputs": [],
   "source": [
    "fig = plt.figure()\n",
    "ax = fig.add_subplot(1,1,1)\n",
    "\n",
    "ax.plot(par.a_grid,sol.a[0,1,:],label='baseline')\n",
    "ax.plot(par.a_grid,model_vfi_low_risk.sol.a[0,1,:],label='low risk')\n",
    "ax.plot(par.a_grid,a_PIH,label='PIH',color='black',linestyle='--')\n",
    "\n",
    "ax.axhline(par.a_min,color='grey',label='borrowing constraint')\n",
    "\n",
    "ax.legend(frameon=True)\n",
    "ax.set_xlabel('$a_{t-1}$')\n",
    "ax.set_ylabel('$a_t$')\n",
    "ax.set_xlim([par.a_grid[0],par.a_grid[-1]])\n",
    "\n",
    "fig.suptitle('savings function in $t=0$')\n",
    "fig.tight_layout(pad=0.5)\n",
    "fig.savefig('figs/a_func.pdf')"
   ]
  },
  {
   "cell_type": "code",
   "execution_count": null,
   "metadata": {},
   "outputs": [],
   "source": [
    "fig = plt.figure()\n",
    "ax = fig.add_subplot(1,1,1)\n",
    "\n",
    "I = par.a_grid < 2\n",
    "ax.plot(par.a_grid[I],sol.a[0,1,I]-par.a_grid[I],label=f'baseline')\n",
    "ax.plot(par.a_grid[I],model_vfi_low_risk.sol.a[0,1,I]-par.a_grid[I],label=f'low risk')\n",
    "ax.plot(par.a_grid[I],a_PIH[I]-par.a_grid[I],label='PIH',color='black',linestyle='--')\n",
    "\n",
    "ax.plot(par.a_grid[I],np.zeros(I.sum()))\n",
    "\n",
    "ax.legend(frameon=True)\n",
    "ax.set_xlabel('$a_{t-1}$')\n",
    "ax.set_ylabel('$a_t-a_{t-1}$')\n",
    "ax.set_xlim([par.a_grid[0],par.a_grid[I][-1]])\n",
    "\n",
    "fig.suptitle('savings diff. function in $t=0$')\n",
    "fig.tight_layout(pad=0.5)\n",
    "fig.savefig('figs/a_diff_func.pdf')"
   ]
  },
  {
   "cell_type": "markdown",
   "metadata": {},
   "source": [
    "### 3.3. <a id='toc3_3_'></a>[MPC](#toc0_)"
   ]
  },
  {
   "cell_type": "code",
   "execution_count": null,
   "metadata": {},
   "outputs": [],
   "source": [
    "def calc_MPC(model,chi,Na,algo='vfi'):\n",
    "\n",
    "    par = model.par\n",
    "    model_base = model.copy()\n",
    "    model_alt = model.copy()\n",
    "\n",
    "    for model_,val in [(model_base,0.0),(model_alt,chi)]:\n",
    "        \n",
    "        model_.par.chi[0] = val\n",
    "        model_.par.Na = Na\n",
    "        model_.allocate()\n",
    "        model_.solve(do_print=False,algo=algo)\n",
    "\n",
    "    MPC = (model_alt.sol.c[0,1,:]-model_base.sol.c[0,1,:])/chi\n",
    "\n",
    "    return model_base.par.a_grid, MPC"
   ]
  },
  {
   "cell_type": "code",
   "execution_count": null,
   "metadata": {},
   "outputs": [],
   "source": [
    "fig = plt.figure()\n",
    "ax = fig.add_subplot(1,1,1)\n",
    "\n",
    "chi = 0.1\n",
    "Na = 100_000\n",
    "a_grid, MPC = calc_MPC(model_vfi,chi,Na,algo='vfi')\n",
    "_, MPC_low_risk = calc_MPC(model_vfi_low_risk,chi,Na,algo='vfi')\n",
    "\n",
    "ax.plot(a_grid,MPC,label='baseline')\n",
    "ax.plot(a_grid,MPC_low_risk,label='low risk')\n",
    "ax.axhline(PIH_MPC,color='black',linestyle='--')\n",
    "\n",
    "ax.legend(frameon=True)\n",
    "ax.set_xlabel('$a_{t-1}$')\n",
    "ax.set_ylabel('MPC')\n",
    "ax.set_xlim([par.a_grid[0],par.a_grid[:][-1]])\n",
    "\n",
    "fig.suptitle('consumption function')\n",
    "fig.tight_layout(pad=0.5)\n",
    "fig.savefig('figs/MPC.pdf')"
   ]
  },
  {
   "cell_type": "markdown",
   "metadata": {},
   "source": [
    "**Question:** What happens with lower `Na` or `chi`?"
   ]
  },
  {
   "cell_type": "markdown",
   "metadata": {},
   "source": [
    "## 4. <a id='toc4_'></a>[Simulate](#toc0_)"
   ]
  },
  {
   "cell_type": "code",
   "execution_count": null,
   "metadata": {},
   "outputs": [],
   "source": [
    "model_vfi.prepare_simulate()"
   ]
  },
  {
   "cell_type": "code",
   "execution_count": null,
   "metadata": {},
   "outputs": [],
   "source": [
    "model_vfi.simulate()"
   ]
  },
  {
   "cell_type": "markdown",
   "metadata": {},
   "source": [
    "### 4.1. <a id='toc4_1_'></a>[Income](#toc0_)"
   ]
  },
  {
   "cell_type": "code",
   "execution_count": null,
   "metadata": {},
   "outputs": [],
   "source": [
    "for t in range(par.T):\n",
    "\n",
    "    for i_z in range(par.Nz):\n",
    "        print(f'Pr[z = {par.z_grid[i_z]:.2f}] = {np.mean(sim.i_z[t,:] == i_z):.2f}')\n",
    "\n",
    "    print(f'mean(w*z) = {np.mean(par.w*par.z_grid[sim.i_z[t]]):.2f}')\n",
    "    print(f'var(w*z)  = {np.var(par.w*par.z_grid[sim.i_z[t]]):.2f}')\n",
    "\n",
    "    if not t == par.T-1: print('')"
   ]
  },
  {
   "cell_type": "markdown",
   "metadata": {},
   "source": [
    "### 4.2. <a id='toc4_2_'></a>[Asset distribution](#toc0_)"
   ]
  },
  {
   "cell_type": "code",
   "execution_count": null,
   "metadata": {},
   "outputs": [],
   "source": [
    "fig = plt.figure(figsize=(12,4))\n",
    "\n",
    "for t in range(par.T-1):\n",
    "\n",
    "    ax = fig.add_subplot(1,2,t+1)\n",
    "    ax.set_title(f'{t = }')\n",
    "    ax.hist(np.clip(sim.a[t],par.a_min,3.0),bins=100,density=True,label='all',alpha=0.5)\n",
    "    \n",
    "    I = sim.i_z[t] == 1\n",
    "    ax.hist(np.clip(sim.a[t,I],par.a_min,3.0),bins=100,density=True,label='no shock yet',alpha=0.5)\n",
    "\n",
    "    ax.set_xlabel('$a_{t}$')\n",
    "    ax.legend(frameon=True)\n",
    "\n",
    "fig.suptitle('histograms of $a_{t}$')\n",
    "fig.tight_layout(pad=1.0)\n",
    "fig.savefig('figs/a_hist.pdf')"
   ]
  },
  {
   "cell_type": "markdown",
   "metadata": {},
   "source": [
    "### 4.3. <a id='toc4_3_'></a>[Intertemporal MPCs](#toc0_)"
   ]
  },
  {
   "cell_type": "code",
   "execution_count": null,
   "metadata": {},
   "outputs": [],
   "source": [
    "def calc_MPC_dyn(model,a_ini=0,chi=1e-4,t=0,algo='vfi'):\n",
    "\n",
    "    model_base = model.copy()\n",
    "    model_base.par.simN = 1\n",
    "    model_base.allocate()\n",
    "    model_base.sim.a_ini[0] = a_ini\n",
    "    model_base.sim.p_z[:] = 0.5\n",
    "    model_base.solve(do_print=False,algo=algo)\n",
    "    model_base.simulate(do_print=False)\n",
    "\n",
    "    model_alt = model_base.copy()\n",
    "    model_alt.par.chi[t] = chi\n",
    "    model_alt.solve(do_print=False,algo=algo)\n",
    "    model_alt.simulate(do_print=False)\n",
    "\n",
    "    MPC_dyn = (model_alt.sim.c[:]-model_base.sim.c[:])/chi\n",
    "\n",
    "    return MPC_dyn,model_base.sim.a,model_alt.sim.a"
   ]
  },
  {
   "cell_type": "code",
   "execution_count": null,
   "metadata": {},
   "outputs": [],
   "source": [
    "for i_chi,chi in enumerate([0.1,0.25,0.5,1.0]):\n",
    "\n",
    "    fig = plt.figure(figsize=(12,4))\n",
    "\n",
    "    ax1 = fig.add_subplot(1,2,1)\n",
    "    ax1.set_title('MPC')\n",
    "\n",
    "    ax2 = fig.add_subplot(1,2,2)\n",
    "    ax2.set_title('savings, $a_t$')\n",
    "\n",
    "    for t in range(par.T):\n",
    "\n",
    "        MPC_dyn,a_base,a_alt = calc_MPC_dyn(model_vfi,a_ini=0.0,chi=chi,t=t)\n",
    "        ax1.plot(MPC_dyn,label=f'$\\chi$ in {t = }')\n",
    "        ax2.plot(a_alt)\n",
    "\n",
    "    ax2.axhline(par.a_min,color='grey',label='borrowing constraint')\n",
    "    ax1.legend(frameon=True)\n",
    "    for ax in [ax1,ax2]:\n",
    "        ax.set_xticks(np.arange(par.T));\n",
    "\n",
    "    fig.tight_layout(pad=1.0)\n",
    "    fig.suptitle(f'$\\chi = {chi}$')\n",
    "    fig.savefig(f'figs/MPC_dyn_{i_chi}.pdf')"
   ]
  },
  {
   "cell_type": "markdown",
   "metadata": {},
   "source": [
    "## 5. <a id='toc5_'></a>[Solve - endogenous grid method (egm)](#toc0_)"
   ]
  },
  {
   "cell_type": "code",
   "execution_count": null,
   "metadata": {},
   "outputs": [],
   "source": [
    "model_egm = model_vfi.copy()"
   ]
  },
  {
   "cell_type": "code",
   "execution_count": null,
   "metadata": {},
   "outputs": [],
   "source": [
    "model_egm.solve(do_print=True,algo='egm')"
   ]
  },
  {
   "cell_type": "code",
   "execution_count": null,
   "metadata": {},
   "outputs": [],
   "source": [
    "model_egm.solve(do_print=True,algo='egm')"
   ]
  },
  {
   "cell_type": "markdown",
   "metadata": {},
   "source": [
    "### 5.1. <a id='toc5_1_'></a>[Compare solution methods](#toc0_)"
   ]
  },
  {
   "cell_type": "code",
   "execution_count": null,
   "metadata": {},
   "outputs": [],
   "source": [
    "fig = plt.figure()\n",
    "ax = fig.add_subplot(1,1,1)\n",
    "\n",
    "ax.plot(par.a_grid,model_vfi.sol.c[0,1,:],'--',label=f'vfi')\n",
    "ax.plot(par.a_grid,model_egm.sol.c[0,1,:],label=f'baseline')\n",
    "\n",
    "ax.legend(frameon=True)\n",
    "ax.set_xlabel('$a_{t-1}$')\n",
    "ax.set_ylabel('$c_t$')\n",
    "ax.set_xlim([par.a_grid[0],par.a_grid[-1]])\n",
    "\n",
    "fig.suptitle('consumption function')\n",
    "fig.tight_layout(pad=0.5)\n",
    "fig.savefig('figs/c_func_vfi_vs_egm.pdf')"
   ]
  },
  {
   "cell_type": "code",
   "execution_count": null,
   "metadata": {},
   "outputs": [],
   "source": [
    "fig = plt.figure()\n",
    "ax = fig.add_subplot(1,1,1)\n",
    "\n",
    "ax.plot(par.a_grid,model_vfi.sol.a[0,1,:]-model_egm.sol.a[0,1,:])\n",
    "    \n",
    "ax.set_xlabel('$a_{t-1}$');\n",
    "ax.set_ylabel('diff. vfi-egm')\n",
    "\n",
    "fig.suptitle('consumption function')\n",
    "fig.tight_layout(pad=0.5)\n",
    "fig.savefig('figs/c_func_vfi_vs_egm_diff.pdf')"
   ]
  },
  {
   "cell_type": "markdown",
   "metadata": {},
   "source": [
    "### 5.2. <a id='toc5_2_'></a>[MPC](#toc0_)"
   ]
  },
  {
   "cell_type": "markdown",
   "metadata": {},
   "source": [
    "**vfi vs egm:**"
   ]
  },
  {
   "cell_type": "code",
   "execution_count": null,
   "metadata": {},
   "outputs": [],
   "source": [
    "fig = plt.figure()\n",
    "ax = fig.add_subplot(1,1,1)\n",
    "\n",
    "chi = 1.0\n",
    "Na = 10_000\n",
    "a_grid, MPC = calc_MPC(model_vfi,chi,Na,algo='vfi')\n",
    "ax.plot(a_grid,MPC,label=f'vfi, $\\chi = 1$')\n",
    "\n",
    "Na = par.Na # much fewer points needed for egm\n",
    "a_grid, MPC = calc_MPC(model_egm,chi,Na,algo='egm')\n",
    "ax.plot(a_grid,MPC,label=f'egm, $\\chi = 1$')\n",
    "\n",
    "ax.legend(frameon=True)\n",
    "ax.set_xlabel('$a_{t-1}$')\n",
    "ax.set_ylabel('MPC')\n",
    "ax.set_xlim([par.a_grid[0],par.a_grid[:][-1]])\n",
    "\n",
    "fig.suptitle('MPC - vfi vs egm')\n",
    "fig.tight_layout(pad=0.5)\n",
    "fig.savefig('figs/MPC_vfi_vs_egm.pdf')"
   ]
  },
  {
   "cell_type": "markdown",
   "metadata": {},
   "source": [
    "**Does shock size matter?**"
   ]
  },
  {
   "cell_type": "code",
   "execution_count": null,
   "metadata": {},
   "outputs": [],
   "source": [
    "fig = plt.figure()\n",
    "ax = fig.add_subplot(1,1,1)\n",
    "\n",
    "for chi in [1.0,0.5,1e-1,1e-2,1e-4]:\n",
    "    Na = par.Na\n",
    "    a_grid, MPC = calc_MPC(model_egm,chi,Na,algo='egm')\n",
    "    ax.plot(a_grid,MPC,label=f'egm, $\\{chi = :.1e}$')\n",
    "\n",
    "ax.legend(frameon=True)\n",
    "ax.set_xlabel('$a_{t-1}$')\n",
    "ax.set_ylabel('MPC')\n",
    "ax.set_xlim([par.a_grid[0],par.a_grid[:][-1]])\n",
    "\n",
    "fig.suptitle('MPC - shock size')\n",
    "fig.tight_layout(pad=0.5)\n",
    "fig.savefig('figs/MPC_shock_size.pdf')"
   ]
  },
  {
   "cell_type": "markdown",
   "metadata": {},
   "source": [
    "**Compare with slope of consumption function:**"
   ]
  },
  {
   "cell_type": "code",
   "execution_count": null,
   "metadata": {},
   "outputs": [],
   "source": [
    "# calculate\n",
    "c = model_egm.sol.c\n",
    "MPC = (c[0,1,1:]-c[0,1,:-1])/((1+par.r)*(par.a_grid[1:]-par.a_grid[:-1]))\n",
    "\n",
    "# plot\n",
    "fig = plt.figure()\n",
    "ax = fig.add_subplot(1,1,1)\n",
    "\n",
    "ax.plot(par.a_grid[:-1],MPC,label=f'slope of $c_t$')\n",
    "\n",
    "chi = 1e-4\n",
    "Na = par.Na\n",
    "a_grid, MPC = calc_MPC(model_egm,chi,Na,algo='egm')\n",
    "ax.plot(a_grid,MPC,label=f'effect of $\\chi$')\n",
    "\n",
    "ax.set_xlim([par.a_min,3])\n",
    "ax.set_xlabel('$a_{t-1}$')\n",
    "ax.legend(frameon=True);\n",
    "\n",
    "fig.suptitle('MPC from policy function')\n",
    "fig.tight_layout(pad=0.5)"
   ]
  },
  {
   "cell_type": "markdown",
   "metadata": {},
   "source": [
    "### 5.3. <a id='toc5_3_'></a>[Intertemporal MPCs](#toc0_)"
   ]
  },
  {
   "cell_type": "code",
   "execution_count": null,
   "metadata": {},
   "outputs": [],
   "source": [
    "fig.savefig('figs/c_func_vfi_vs_egm_diff.pdf')"
   ]
  },
  {
   "cell_type": "code",
   "execution_count": null,
   "metadata": {},
   "outputs": [],
   "source": [
    "for i_chi,chi in enumerate([0.1,0.25,0.5,1.0]):\n",
    "\n",
    "    fig = plt.figure(figsize=(12,4))\n",
    "\n",
    "    ax1 = fig.add_subplot(1,2,1)\n",
    "    ax1.set_title('MPC')\n",
    "\n",
    "    ax2 = fig.add_subplot(1,2,2)\n",
    "    ax2.set_title('savings, $a_t$')\n",
    "\n",
    "    for t in range(par.T):\n",
    "\n",
    "        MPC_dyn,a_base,a_alt = calc_MPC_dyn(model_egm,a_ini=0.0,chi=chi,t=t)\n",
    "        ax1.plot(MPC_dyn,label=f'$\\chi$ in {t = }')\n",
    "        ax2.plot(a_alt)\n",
    "\n",
    "    ax2.axhline(par.a_min,color='grey',label='borrowing constraint')\n",
    "    ax1.legend(frameon=True)\n",
    "    for ax in [ax1,ax2]:\n",
    "        ax.set_xticks(np.arange(par.T));\n",
    "\n",
    "    fig.tight_layout(pad=1.0)\n",
    "    fig.suptitle(f'$\\chi = {chi}$')\n",
    "    fig.savefig(f'figs/MPC_dyn_{i_chi}_egm.pdf')"
   ]
  }
 ],
 "metadata": {
  "kernelspec": {
   "display_name": "Python 3 (ipykernel)",
   "language": "python",
   "name": "python3"
  },
  "language_info": {
   "codemirror_mode": {
    "name": "ipython",
    "version": 3
   },
   "file_extension": ".py",
   "mimetype": "text/x-python",
   "name": "python",
   "nbconvert_exporter": "python",
   "pygments_lexer": "ipython3",
   "version": "3.10.11"
  },
  "toc-autonumbering": true
 },
 "nbformat": 4,
 "nbformat_minor": 4
}
