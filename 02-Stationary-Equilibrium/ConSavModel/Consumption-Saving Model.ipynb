{
 "cells": [
  {
   "cell_type": "markdown",
   "metadata": {},
   "source": [
    "# Consumption-Saving Model"
   ]
  },
  {
   "cell_type": "markdown",
   "metadata": {},
   "source": [
    "**Table of contents**<a id='toc0_'></a>    \n",
    "- 1. [Setup](#toc1_)    \n",
    "- 2. [Iterate backwards](#toc2_)    \n",
    "- 3. [Solve - value function interation (vfi)](#toc3_)    \n",
    "  - 3.1. [Consumption function](#toc3_1_)    \n",
    "  - 3.2. [Savings function](#toc3_2_)    \n",
    "- 4. [Simulate](#toc4_)    \n",
    "  - 4.1. [Monte Carlo](#toc4_1_)    \n",
    "  - 4.2. [Historgram](#toc4_2_)    \n",
    "- 5. [Compare simulation methods](#toc5_)    \n",
    "- 6. [Solve - endogenous grid method (egm)](#toc6_)    \n",
    "  - 6.1. [Compare solution methods](#toc6_1_)    \n",
    "  - 6.2. [Consumption is proportional to $w$](#toc6_2_)    \n",
    "- 7. [More simulation results](#toc7_)    \n",
    "  - 7.1. [MPCs](#toc7_1_)    \n",
    "  - 7.2. [Auto-correlation of savings over time (+)](#toc7_2_)    \n",
    "\n",
    "<!-- vscode-jupyter-toc-config\n",
    "\tnumbering=true\n",
    "\tanchor=true\n",
    "\tflat=false\n",
    "\tminLevel=2\n",
    "\tmaxLevel=6\n",
    "\t/vscode-jupyter-toc-config -->\n",
    "<!-- THIS CELL WILL BE REPLACED ON TOC UPDATE. DO NOT WRITE YOUR TEXT IN THIS CELL -->"
   ]
  },
  {
   "cell_type": "markdown",
   "metadata": {},
   "source": [
    "**Content:** Solves and simulates a simple consumption-saving model.\n",
    "\n",
    "**Solution methods:** *Value function iteration* (`vfi`) and the *endogenous grid-point method* (`egm`).\n",
    "\n",
    "**Simulation methods:** Monte Carlo (`mc`) and the historgram method (`hist`)."
   ]
  },
  {
   "cell_type": "markdown",
   "metadata": {},
   "source": [
    "**Packages you should know:**\n",
    "\n",
    "1. [quantecon](https://quantecon.org/)\n",
    "2. [EconModel](https://github.com/NumEconCopenhagen/EconModel) ([notebooks](https://github.com/NumEconCopenhagen/EconModelNotebooks))\n",
    "2. [consav](https://github.com/NumEconCopenhagen/ConsumptionSaving) ([notebooks](https://github.com/NumEconCopenhagen/ConsumptionSavingNotebooks))"
   ]
  },
  {
   "cell_type": "code",
   "execution_count": null,
   "metadata": {},
   "outputs": [
    {
     "ename": "",
     "evalue": "",
     "output_type": "error",
     "traceback": [
      "\u001b[1;31mFailed to start the Kernel. \n",
      "\u001b[1;31mUnable to start Kernel 'base (Python 3.11.3)' due to a timeout waiting for the ports to get used. \n",
      "\u001b[1;31mView Jupyter <a href='command:jupyter.viewOutput'>log</a> for further details."
     ]
    }
   ],
   "source": [
    "%load_ext autoreload\n",
    "%autoreload 2\n",
    "\n",
    "import numpy as np\n",
    "import numba as nb\n",
    "\n",
    "import matplotlib.pyplot as plt   \n",
    "colors = plt.rcParams['axes.prop_cycle'].by_key()['color']\n",
    "plt.rcParams.update({\"axes.grid\" : True, \"grid.color\": \"black\", \"grid.alpha\":\"0.25\", \"grid.linestyle\": \"--\"})\n",
    "plt.rcParams.update({'font.size': 14})\n",
    "\n",
    "from ConSavModel import ConSavModelClass"
   ]
  },
  {
   "cell_type": "markdown",
   "metadata": {},
   "source": [
    "## 1. <a id='toc1_'></a>[Setup](#toc0_)"
   ]
  },
  {
   "cell_type": "code",
   "execution_count": null,
   "metadata": {},
   "outputs": [
    {
     "ename": "",
     "evalue": "",
     "output_type": "error",
     "traceback": [
      "\u001b[1;31mFailed to start the Kernel. \n",
      "\u001b[1;31mUnable to start Kernel 'base (Python 3.11.3)' due to a timeout waiting for the ports to get used. \n",
      "\u001b[1;31mView Jupyter <a href='command:jupyter.viewOutput'>log</a> for further details."
     ]
    }
   ],
   "source": [
    "model_vfi = ConSavModelClass()"
   ]
  },
  {
   "cell_type": "markdown",
   "metadata": {},
   "source": [
    "**Question:** Which methods have been called now?"
   ]
  },
  {
   "cell_type": "code",
   "execution_count": null,
   "metadata": {},
   "outputs": [
    {
     "ename": "",
     "evalue": "",
     "output_type": "error",
     "traceback": [
      "\u001b[1;31mFailed to start the Kernel. \n",
      "\u001b[1;31mUnable to start Kernel 'base (Python 3.11.3)' due to a timeout waiting for the ports to get used. \n",
      "\u001b[1;31mView Jupyter <a href='command:jupyter.viewOutput'>log</a> for further details."
     ]
    }
   ],
   "source": [
    "# unpack for easy access\n",
    "par = model_vfi.par\n",
    "sol = model_vfi.sol\n",
    "sim = model_vfi.sim"
   ]
  },
  {
   "cell_type": "markdown",
   "metadata": {},
   "source": [
    "**Grids:**"
   ]
  },
  {
   "cell_type": "code",
   "execution_count": null,
   "metadata": {},
   "outputs": [
    {
     "ename": "",
     "evalue": "",
     "output_type": "error",
     "traceback": [
      "\u001b[1;31mFailed to start the Kernel. \n",
      "\u001b[1;31mUnable to start Kernel 'base (Python 3.11.3)' due to a timeout waiting for the ports to get used. \n",
      "\u001b[1;31mView Jupyter <a href='command:jupyter.viewOutput'>log</a> for further details."
     ]
    }
   ],
   "source": [
    "fig = plt.figure()\n",
    "ax = fig.add_subplot(1,1,1)\n",
    "\n",
    "z_grid,a_grid = np.meshgrid(par.z_grid,par.a_grid,indexing='ij')\n",
    "ax.scatter(z_grid,a_grid,2)\n",
    "\n",
    "ax.set_yscale('log')\n",
    "ax.set_xlabel('$z_t$')\n",
    "ax.set_ylabel('$a_{t-1}$')\n",
    "\n",
    "fig.suptitle('Grids for $z_t$ and $a_{t-1}$')\n",
    "fig.tight_layout(pad=0.5)\n",
    "fig.savefig('figs/grids.pdf')"
   ]
  },
  {
   "cell_type": "markdown",
   "metadata": {},
   "source": [
    "**Transition matrix for $z_t$:**"
   ]
  },
  {
   "cell_type": "code",
   "execution_count": null,
   "metadata": {},
   "outputs": [
    {
     "ename": "",
     "evalue": "",
     "output_type": "error",
     "traceback": [
      "\u001b[1;31mFailed to start the Kernel. \n",
      "\u001b[1;31mUnable to start Kernel 'base (Python 3.11.3)' due to a timeout waiting for the ports to get used. \n",
      "\u001b[1;31mView Jupyter <a href='command:jupyter.viewOutput'>log</a> for further details."
     ]
    }
   ],
   "source": [
    "fig = plt.figure(figsize=(6,6))\n",
    "ax = fig.add_subplot(1,1,1)\n",
    "ax.grid(False)\n",
    "h = ax.matshow(par.z_trans,cmap='Greys',alpha=0.5)\n",
    "\n",
    "for (i, j), value in np.ndenumerate(par.z_trans):\n",
    "    ax.text(j, i, f'{value:0.3f}', ha='center', va='center')\n",
    "    \n",
    "z_labels = [f'{z:.2f}' for z in par.z_grid]\n",
    "xaxis = np.arange(par.z_grid.size)\n",
    "ax.set_xticks(xaxis)\n",
    "ax.set_xticklabels(z_labels) \n",
    "ax.set_yticks(xaxis)\n",
    "ax.set_yticklabels(z_labels) \n",
    "\n",
    "ax.set_xlabel('$z_{t}$')\n",
    "ax.set_ylabel('$z_{t-1}$')\n",
    "\n",
    "fig.suptitle('Transition probabilities')\n",
    "fig.tight_layout(pad=0.75)\n",
    "fig.savefig('figs/z_trans.pdf')"
   ]
  },
  {
   "cell_type": "markdown",
   "metadata": {},
   "source": [
    "**Ergodic distribution:**"
   ]
  },
  {
   "cell_type": "code",
   "execution_count": null,
   "metadata": {},
   "outputs": [
    {
     "ename": "",
     "evalue": "",
     "output_type": "error",
     "traceback": [
      "\u001b[1;31mFailed to start the Kernel. \n",
      "\u001b[1;31mUnable to start Kernel 'base (Python 3.11.3)' due to a timeout waiting for the ports to get used. \n",
      "\u001b[1;31mView Jupyter <a href='command:jupyter.viewOutput'>log</a> for further details."
     ]
    }
   ],
   "source": [
    "fig = plt.figure()\n",
    "ax = fig.add_subplot(1,1,1)\n",
    "I = np.argsort(par.z_grid)\n",
    "ax.plot(par.z_grid[I],par.z_ergodic[I],'-o',label='pdf')\n",
    "ax.axvline(np.sum(par.z_ergodic*par.z_grid),color='black',label='mean')\n",
    "ax.set_xlabel('$z_t$')\n",
    "ax.set_ylabel('probability')\n",
    "ax.legend(frameon=True)\n",
    "\n",
    "fig.suptitle('Ergodic PDF of $z_t$')\n",
    "fig.tight_layout(pad=0.5)\n",
    "fig.savefig('figs/z_ergodic.pdf')"
   ]
  },
  {
   "cell_type": "markdown",
   "metadata": {},
   "source": [
    "**Cummulative distributions:**"
   ]
  },
  {
   "cell_type": "code",
   "execution_count": null,
   "metadata": {},
   "outputs": [
    {
     "ename": "",
     "evalue": "",
     "output_type": "error",
     "traceback": [
      "\u001b[1;31mFailed to start the Kernel. \n",
      "\u001b[1;31mUnable to start Kernel 'base (Python 3.11.3)' due to a timeout waiting for the ports to get used. \n",
      "\u001b[1;31mView Jupyter <a href='command:jupyter.viewOutput'>log</a> for further details."
     ]
    }
   ],
   "source": [
    "fig = plt.figure()\n",
    "ax = fig.add_subplot(1,1,1)\n",
    "I = np.argsort(par.z_grid)\n",
    "ax.plot(par.z_grid[I],np.cumsum(par.z_ergodic[I]),'-o')\n",
    "ax.set_xlabel('$z_t$')\n",
    "ax.set_ylabel('cdf')\n",
    "\n",
    "fig.suptitle('Ergodic CDF of $z_t$')\n",
    "fig.tight_layout(pad=0.5)\n",
    "fig.savefig('figs/z_ergodic_cdf.pdf')"
   ]
  },
  {
   "cell_type": "markdown",
   "metadata": {},
   "source": [
    "## 2. <a id='toc2_'></a>[Iterate backwards](#toc0_)"
   ]
  },
  {
   "cell_type": "code",
   "execution_count": null,
   "metadata": {},
   "outputs": [
    {
     "ename": "",
     "evalue": "",
     "output_type": "error",
     "traceback": [
      "\u001b[1;31mFailed to start the Kernel. \n",
      "\u001b[1;31mUnable to start Kernel 'base (Python 3.11.3)' due to a timeout waiting for the ports to get used. \n",
      "\u001b[1;31mView Jupyter <a href='command:jupyter.viewOutput'>log</a> for further details."
     ]
    }
   ],
   "source": [
    "K = 101 # number of backward iterations\n",
    "\n",
    "# a. allocate\n",
    "c = np.zeros((K,par.Nz,par.Na))\n",
    "a = np.zeros((K,par.Nz,par.Na))\n",
    "vbeg = np.zeros((K,par.Nz,par.Na))\n",
    "v = np.zeros((K,par.Nz,par.Na))\n",
    "    \n",
    "# b. iterate\n",
    "for k in range(K):\n",
    "\n",
    "    if k == 0: # last period = consume everything\n",
    "\n",
    "        c_plus = (1+par.r)*par.a_grid[np.newaxis,:] + par.w*par.z_grid[:,np.newaxis]\n",
    "        v_plus = c_plus**(1-par.sigma)/(1-par.sigma)\n",
    "        vbeg_plus = par.z_trans@v_plus\n",
    "\n",
    "    else: # plus is previous iteration\n",
    "\n",
    "        vbeg_plus = vbeg[k-1]\n",
    "        c_plus = c[k-1]\n",
    "\n",
    "    model_vfi.solve_hh_backwards_vfi(vbeg_plus,c_plus,vbeg[k],c[k],a[k])"
   ]
  },
  {
   "cell_type": "markdown",
   "metadata": {},
   "source": [
    "**Question:** What role does the argument `c_plus` play in `solve_hh_backwards_vfi`?"
   ]
  },
  {
   "cell_type": "code",
   "execution_count": null,
   "metadata": {},
   "outputs": [
    {
     "ename": "",
     "evalue": "",
     "output_type": "error",
     "traceback": [
      "\u001b[1;31mFailed to start the Kernel. \n",
      "\u001b[1;31mUnable to start Kernel 'base (Python 3.11.3)' due to a timeout waiting for the ports to get used. \n",
      "\u001b[1;31mView Jupyter <a href='command:jupyter.viewOutput'>log</a> for further details."
     ]
    }
   ],
   "source": [
    "fig = plt.figure()\n",
    "ax = fig.add_subplot(1,1,1)\n",
    "\n",
    "for k in range(0,K,10):\n",
    "    ax.plot(par.a_grid,vbeg[k,par.Nz//2,:],label=f'k={k}')\n",
    "    \n",
    "ax.legend(frameon=True,ncol=3)\n",
    "ax.set_xlabel('$a_{t-1}$')\n",
    "ax.set_xlim([par.a_grid[0],par.a_grid[-1]])\n",
    "\n",
    "fig.suptitle('value function (beg.-of-period)')\n",
    "fig.tight_layout(pad=0.5)\n",
    "fig.savefig('figs/vbeg_func_convergence.pdf')"
   ]
  },
  {
   "cell_type": "code",
   "execution_count": null,
   "metadata": {},
   "outputs": [
    {
     "ename": "",
     "evalue": "",
     "output_type": "error",
     "traceback": [
      "\u001b[1;31mFailed to start the Kernel. \n",
      "\u001b[1;31mUnable to start Kernel 'base (Python 3.11.3)' due to a timeout waiting for the ports to get used. \n",
      "\u001b[1;31mView Jupyter <a href='command:jupyter.viewOutput'>log</a> for further details."
     ]
    }
   ],
   "source": [
    "fig = plt.figure()\n",
    "ax = fig.add_subplot(1,1,1)\n",
    "\n",
    "for k in range(10,K,10):\n",
    "    ax.plot(par.a_grid,c[k,par.Nz//2,:],label=f'k={k}')\n",
    "    \n",
    "ax.legend(frameon=True,ncol=2)\n",
    "ax.set_xlabel('$a_{t-1}$')\n",
    "ax.set_xlim([par.a_grid[0],par.a_grid[-1]])\n",
    "\n",
    "fig.suptitle('consumption function')\n",
    "fig.tight_layout(pad=0.5)\n",
    "fig.savefig('figs/c_func_convergence.pdf')"
   ]
  },
  {
   "cell_type": "markdown",
   "metadata": {},
   "source": [
    "## 3. <a id='toc3_'></a>[Solve - value function interation (vfi)](#toc0_)"
   ]
  },
  {
   "cell_type": "code",
   "execution_count": null,
   "metadata": {},
   "outputs": [
    {
     "ename": "",
     "evalue": "",
     "output_type": "error",
     "traceback": [
      "\u001b[1;31mFailed to start the Kernel. \n",
      "\u001b[1;31mUnable to start Kernel 'base (Python 3.11.3)' due to a timeout waiting for the ports to get used. \n",
      "\u001b[1;31mView Jupyter <a href='command:jupyter.viewOutput'>log</a> for further details."
     ]
    }
   ],
   "source": [
    "model_vfi.solve(do_print=True,algo='vfi')"
   ]
  },
  {
   "cell_type": "markdown",
   "metadata": {},
   "source": [
    "**Question:** What does ``par.tol_solve`` do?"
   ]
  },
  {
   "cell_type": "markdown",
   "metadata": {},
   "source": [
    "### 3.1. <a id='toc3_1_'></a>[Consumption function](#toc0_)"
   ]
  },
  {
   "cell_type": "code",
   "execution_count": null,
   "metadata": {},
   "outputs": [
    {
     "ename": "",
     "evalue": "",
     "output_type": "error",
     "traceback": [
      "\u001b[1;31mFailed to start the Kernel. \n",
      "\u001b[1;31mUnable to start Kernel 'base (Python 3.11.3)' due to a timeout waiting for the ports to get used. \n",
      "\u001b[1;31mView Jupyter <a href='command:jupyter.viewOutput'>log</a> for further details."
     ]
    }
   ],
   "source": [
    "fig = plt.figure()\n",
    "ax = fig.add_subplot(1,1,1)\n",
    "for i_z in range(par.Nz):\n",
    "    ax.plot(par.a_grid,sol.c[i_z,:],label=f'z = {par.z_grid[i_z]:.2f}')\n",
    "    \n",
    "ax.legend(frameon=True)\n",
    "ax.set_xlabel('$a_{t-1}$')\n",
    "ax.set_ylabel('$c_t$')\n",
    "ax.set_xlim([par.a_grid[0],par.a_grid[-1]])\n",
    "\n",
    "fig.suptitle('consumption function')\n",
    "fig.tight_layout(pad=0.5)\n",
    "fig.savefig('figs/c_func.pdf')"
   ]
  },
  {
   "cell_type": "markdown",
   "metadata": {},
   "source": [
    "### 3.2. <a id='toc3_2_'></a>[Savings function](#toc0_)"
   ]
  },
  {
   "cell_type": "code",
   "execution_count": null,
   "metadata": {},
   "outputs": [
    {
     "ename": "",
     "evalue": "",
     "output_type": "error",
     "traceback": [
      "\u001b[1;31mFailed to start the Kernel. \n",
      "\u001b[1;31mUnable to start Kernel 'base (Python 3.11.3)' due to a timeout waiting for the ports to get used. \n",
      "\u001b[1;31mView Jupyter <a href='command:jupyter.viewOutput'>log</a> for further details."
     ]
    }
   ],
   "source": [
    "fig = plt.figure()\n",
    "ax = fig.add_subplot(1,1,1)\n",
    "\n",
    "for i_z in range(par.Nz):\n",
    "    ax.plot(par.a_grid,sol.a[i_z,:]-par.a_grid,label=f'$z={par.z_grid[i_z]:.2f}$')\n",
    "\n",
    "ax.plot(par.a_grid,np.zeros(par.Na))\n",
    "\n",
    "ax.legend(frameon=True)\n",
    "ax.set_xlabel('$a_{t-1}$')\n",
    "ax.set_ylabel('$a_t-a_{t-1}$')\n",
    "ax.set_xlim([par.a_grid[0],par.a_grid[-1]])\n",
    "\n",
    "fig.suptitle('savings diff. function')\n",
    "fig.tight_layout(pad=0.5)\n",
    "fig.savefig('figs/a_diff_func.pdf')"
   ]
  },
  {
   "cell_type": "markdown",
   "metadata": {},
   "source": [
    "**Question I:** What explains when savings respectively decrease or increase?\n",
    "\n",
    "**Question II:** Is there convergence to a buffer-stock target?"
   ]
  },
  {
   "cell_type": "markdown",
   "metadata": {},
   "source": [
    "## 4. <a id='toc4_'></a>[Simulate](#toc0_)"
   ]
  },
  {
   "cell_type": "markdown",
   "metadata": {},
   "source": [
    "### 4.1. <a id='toc4_1_'></a>[Monte Carlo](#toc0_)"
   ]
  },
  {
   "cell_type": "code",
   "execution_count": null,
   "metadata": {},
   "outputs": [
    {
     "ename": "",
     "evalue": "",
     "output_type": "error",
     "traceback": [
      "\u001b[1;31mFailed to start the Kernel. \n",
      "\u001b[1;31mUnable to start Kernel 'base (Python 3.11.3)' due to a timeout waiting for the ports to get used. \n",
      "\u001b[1;31mView Jupyter <a href='command:jupyter.viewOutput'>log</a> for further details."
     ]
    }
   ],
   "source": [
    "model_mc = model_vfi.copy()"
   ]
  },
  {
   "cell_type": "code",
   "execution_count": null,
   "metadata": {},
   "outputs": [
    {
     "ename": "",
     "evalue": "",
     "output_type": "error",
     "traceback": [
      "\u001b[1;31mFailed to start the Kernel. \n",
      "\u001b[1;31mUnable to start Kernel 'base (Python 3.11.3)' due to a timeout waiting for the ports to get used. \n",
      "\u001b[1;31mView Jupyter <a href='command:jupyter.viewOutput'>log</a> for further details."
     ]
    }
   ],
   "source": [
    "np.random.seed(123)\n",
    "model_mc.prepare_simulate(algo='mc')"
   ]
  },
  {
   "cell_type": "markdown",
   "metadata": {},
   "source": [
    "**Question:** What determines initial assets?"
   ]
  },
  {
   "cell_type": "code",
   "execution_count": null,
   "metadata": {},
   "outputs": [
    {
     "ename": "",
     "evalue": "",
     "output_type": "error",
     "traceback": [
      "\u001b[1;31mFailed to start the Kernel. \n",
      "\u001b[1;31mUnable to start Kernel 'base (Python 3.11.3)' due to a timeout waiting for the ports to get used. \n",
      "\u001b[1;31mView Jupyter <a href='command:jupyter.viewOutput'>log</a> for further details."
     ]
    }
   ],
   "source": [
    "model_mc.simulate(algo='mc')"
   ]
  },
  {
   "cell_type": "markdown",
   "metadata": {},
   "source": [
    "**Asset distribution in final simulation period:**"
   ]
  },
  {
   "cell_type": "code",
   "execution_count": null,
   "metadata": {},
   "outputs": [
    {
     "ename": "",
     "evalue": "",
     "output_type": "error",
     "traceback": [
      "\u001b[1;31mFailed to start the Kernel. \n",
      "\u001b[1;31mUnable to start Kernel 'base (Python 3.11.3)' due to a timeout waiting for the ports to get used. \n",
      "\u001b[1;31mView Jupyter <a href='command:jupyter.viewOutput'>log</a> for further details."
     ]
    }
   ],
   "source": [
    "fig = plt.figure()\n",
    "ax = fig.add_subplot(1,1,1)\n",
    "ax.hist(np.clip(model_mc.sim.a[-1],0,50),bins=100,density=True)\n",
    "ax.set_xlabel('$a_{t-1}$')"
   ]
  },
  {
   "cell_type": "markdown",
   "metadata": {},
   "source": [
    "### 4.2. <a id='toc4_2_'></a>[Historgram](#toc0_)"
   ]
  },
  {
   "cell_type": "code",
   "execution_count": null,
   "metadata": {},
   "outputs": [
    {
     "ename": "",
     "evalue": "",
     "output_type": "error",
     "traceback": [
      "\u001b[1;31mFailed to start the Kernel. \n",
      "\u001b[1;31mUnable to start Kernel 'base (Python 3.11.3)' due to a timeout waiting for the ports to get used. \n",
      "\u001b[1;31mView Jupyter <a href='command:jupyter.viewOutput'>log</a> for further details."
     ]
    }
   ],
   "source": [
    "model_hist = model_vfi.copy()"
   ]
  },
  {
   "cell_type": "code",
   "execution_count": null,
   "metadata": {},
   "outputs": [
    {
     "ename": "",
     "evalue": "",
     "output_type": "error",
     "traceback": [
      "\u001b[1;31mFailed to start the Kernel. \n",
      "\u001b[1;31mUnable to start Kernel 'base (Python 3.11.3)' due to a timeout waiting for the ports to get used. \n",
      "\u001b[1;31mView Jupyter <a href='command:jupyter.viewOutput'>log</a> for further details."
     ]
    }
   ],
   "source": [
    "model_hist.prepare_simulate(algo='hist')"
   ]
  },
  {
   "cell_type": "markdown",
   "metadata": {},
   "source": [
    "**Question:** What determines initial assets?"
   ]
  },
  {
   "cell_type": "code",
   "execution_count": null,
   "metadata": {},
   "outputs": [
    {
     "ename": "",
     "evalue": "",
     "output_type": "error",
     "traceback": [
      "\u001b[1;31mFailed to start the Kernel. \n",
      "\u001b[1;31mUnable to start Kernel 'base (Python 3.11.3)' due to a timeout waiting for the ports to get used. \n",
      "\u001b[1;31mView Jupyter <a href='command:jupyter.viewOutput'>log</a> for further details."
     ]
    }
   ],
   "source": [
    "model_hist.simulate(algo='hist')"
   ]
  },
  {
   "cell_type": "markdown",
   "metadata": {},
   "source": [
    "Verify that distributions sum to 1.0:"
   ]
  },
  {
   "cell_type": "code",
   "execution_count": null,
   "metadata": {},
   "outputs": [
    {
     "ename": "",
     "evalue": "",
     "output_type": "error",
     "traceback": [
      "\u001b[1;31mFailed to start the Kernel. \n",
      "\u001b[1;31mUnable to start Kernel 'base (Python 3.11.3)' due to a timeout waiting for the ports to get used. \n",
      "\u001b[1;31mView Jupyter <a href='command:jupyter.viewOutput'>log</a> for further details."
     ]
    }
   ],
   "source": [
    "for t in range(par.simT):\n",
    "    assert np.isclose(np.sum(model_hist.sim.Dbeg[t]),1)\n",
    "    assert np.isclose(np.sum(model_hist.sim.D[t]),1)"
   ]
  },
  {
   "cell_type": "markdown",
   "metadata": {},
   "source": [
    "**Questions:** Does the seed for the random number generator matter?"
   ]
  },
  {
   "cell_type": "markdown",
   "metadata": {},
   "source": [
    "## 5. <a id='toc5_'></a>[Compare simulation methods](#toc0_)"
   ]
  },
  {
   "cell_type": "markdown",
   "metadata": {},
   "source": [
    "**Aggregate savings in last 100 periods on average:**"
   ]
  },
  {
   "cell_type": "code",
   "execution_count": null,
   "metadata": {},
   "outputs": [
    {
     "ename": "",
     "evalue": "",
     "output_type": "error",
     "traceback": [
      "\u001b[1;31mFailed to start the Kernel. \n",
      "\u001b[1;31mUnable to start Kernel 'base (Python 3.11.3)' due to a timeout waiting for the ports to get used. \n",
      "\u001b[1;31mView Jupyter <a href='command:jupyter.viewOutput'>log</a> for further details."
     ]
    }
   ],
   "source": [
    "Nperiods = 100\n",
    "A_mc = np.mean(model_mc.sim.a[-Nperiods:])\n",
    "A_hist = np.sum(model_hist.sol.a*model_hist.sim.D[-Nperiods:])/Nperiods\n",
    "\n",
    "print(f'{A_mc   = :7.4f}')\n",
    "print(f'{A_hist = :7.4f}')"
   ]
  },
  {
   "cell_type": "markdown",
   "metadata": {},
   "source": [
    "**CDF:**"
   ]
  },
  {
   "cell_type": "code",
   "execution_count": null,
   "metadata": {},
   "outputs": [
    {
     "ename": "",
     "evalue": "",
     "output_type": "error",
     "traceback": [
      "\u001b[1;31mFailed to start the Kernel. \n",
      "\u001b[1;31mUnable to start Kernel 'base (Python 3.11.3)' due to a timeout waiting for the ports to get used. \n",
      "\u001b[1;31mView Jupyter <a href='command:jupyter.viewOutput'>log</a> for further details."
     ]
    }
   ],
   "source": [
    "fig = plt.figure()\n",
    "ax = fig.add_subplot(1,1,1)\n",
    "\n",
    "CDF_mc = np.zeros(par.Na)\n",
    "for i_a in range(par.Na):\n",
    "    CDF_mc[i_a] = np.sum(model_mc.sim.a[-1,:] < par.a_grid[i_a])/par.simN\n",
    "\n",
    "CDF_hist = np.cumsum(np.sum(model_hist.sim.D[-1],axis=(0,)))\n",
    "\n",
    "ax.plot(par.a_grid,CDF_mc,lw=2,label='monte carlo')\n",
    "ax.plot(par.a_grid,CDF_hist,ls='--',lw=2,label='histogram')\n",
    "\n",
    "ax.set_xlabel('$a_{t-1}$')\n",
    "ax.set_ylabel('CDF')\n",
    "ax.set_xlim([par.b,10.0])\n",
    "ax.legend(frameon=True);\n",
    "\n",
    "fig.suptitle('CDF of assets')\n",
    "fig.tight_layout(pad=0.5)\n",
    "fig.savefig('figs/a_cdf.pdf')"
   ]
  },
  {
   "cell_type": "markdown",
   "metadata": {},
   "source": [
    "**Question 1:** How many liquidity constraints are there in the model?\n",
    "\n",
    "**Question 2:** Look at the figure below. Does `simT` and `simN` matter for the distribution?"
   ]
  },
  {
   "cell_type": "code",
   "execution_count": null,
   "metadata": {},
   "outputs": [
    {
     "ename": "",
     "evalue": "",
     "output_type": "error",
     "traceback": [
      "\u001b[1;31mFailed to start the Kernel. \n",
      "\u001b[1;31mUnable to start Kernel 'base (Python 3.11.3)' due to a timeout waiting for the ports to get used. \n",
      "\u001b[1;31mView Jupyter <a href='command:jupyter.viewOutput'>log</a> for further details."
     ]
    }
   ],
   "source": [
    "fig = plt.figure()\n",
    "ax = fig.add_subplot(1,1,1)\n",
    "\n",
    "A_mc = np.mean(model_mc.sim.a,axis=1)\n",
    "A_hist = np.sum(model_hist.sim.D*model_hist.sol.a,axis=(1,2))\n",
    "\n",
    "ax.plot(A_mc,lw=2,label='monte carlo')\n",
    "ax.plot(A_hist,ls='--',lw=2,label='histogram')\n",
    "\n",
    "ax.legend(frameon=True);"
   ]
  },
  {
   "cell_type": "markdown",
   "metadata": {},
   "source": [
    "**Question 3:** Why is the method below useful?"
   ]
  },
  {
   "cell_type": "code",
   "execution_count": null,
   "metadata": {},
   "outputs": [
    {
     "ename": "",
     "evalue": "",
     "output_type": "error",
     "traceback": [
      "\u001b[1;31mFailed to start the Kernel. \n",
      "\u001b[1;31mUnable to start Kernel 'base (Python 3.11.3)' due to a timeout waiting for the ports to get used. \n",
      "\u001b[1;31mView Jupyter <a href='command:jupyter.viewOutput'>log</a> for further details."
     ]
    }
   ],
   "source": [
    "model_hist.simulate_hist_alt(do_print=True)"
   ]
  },
  {
   "cell_type": "markdown",
   "metadata": {},
   "source": [
    "## 6. <a id='toc6_'></a>[Solve - endogenous grid method (egm)](#toc0_)"
   ]
  },
  {
   "cell_type": "code",
   "execution_count": null,
   "metadata": {},
   "outputs": [
    {
     "ename": "",
     "evalue": "",
     "output_type": "error",
     "traceback": [
      "\u001b[1;31mFailed to start the Kernel. \n",
      "\u001b[1;31mUnable to start Kernel 'base (Python 3.11.3)' due to a timeout waiting for the ports to get used. \n",
      "\u001b[1;31mView Jupyter <a href='command:jupyter.viewOutput'>log</a> for further details."
     ]
    }
   ],
   "source": [
    "model_egm = model_vfi.copy()"
   ]
  },
  {
   "cell_type": "code",
   "execution_count": null,
   "metadata": {},
   "outputs": [
    {
     "ename": "",
     "evalue": "",
     "output_type": "error",
     "traceback": [
      "\u001b[1;31mFailed to start the Kernel. \n",
      "\u001b[1;31mUnable to start Kernel 'base (Python 3.11.3)' due to a timeout waiting for the ports to get used. \n",
      "\u001b[1;31mView Jupyter <a href='command:jupyter.viewOutput'>log</a> for further details."
     ]
    }
   ],
   "source": [
    "model_egm.solve(do_print=True,algo='egm')"
   ]
  },
  {
   "cell_type": "markdown",
   "metadata": {},
   "source": [
    "**Question:** Why is `egm` so much faster than `vfi`?"
   ]
  },
  {
   "cell_type": "markdown",
   "metadata": {},
   "source": [
    "### 6.1. <a id='toc6_1_'></a>[Compare solution methods](#toc0_)"
   ]
  },
  {
   "cell_type": "code",
   "execution_count": null,
   "metadata": {},
   "outputs": [
    {
     "ename": "",
     "evalue": "",
     "output_type": "error",
     "traceback": [
      "\u001b[1;31mFailed to start the Kernel. \n",
      "\u001b[1;31mUnable to start Kernel 'base (Python 3.11.3)' due to a timeout waiting for the ports to get used. \n",
      "\u001b[1;31mView Jupyter <a href='command:jupyter.viewOutput'>log</a> for further details."
     ]
    }
   ],
   "source": [
    "fig = plt.figure()\n",
    "ax = fig.add_subplot(1,1,1)\n",
    "for i_z in range(par.Nz):\n",
    "    ax.plot(par.a_grid,model_vfi.sol.a[i_z,:]-model_egm.sol.a[i_z,:])\n",
    "    \n",
    "ax.set_xlabel('$a_{t-1}$');\n",
    "ax.set_ylabel('diff. to egm');"
   ]
  },
  {
   "cell_type": "markdown",
   "metadata": {},
   "source": [
    "### 6.2. <a id='toc6_2_'></a>[Consumption is proportional to $w$](#toc0_)"
   ]
  },
  {
   "cell_type": "code",
   "execution_count": null,
   "metadata": {},
   "outputs": [
    {
     "ename": "",
     "evalue": "",
     "output_type": "error",
     "traceback": [
      "\u001b[1;31mFailed to start the Kernel. \n",
      "\u001b[1;31mUnable to start Kernel 'base (Python 3.11.3)' due to a timeout waiting for the ports to get used. \n",
      "\u001b[1;31mView Jupyter <a href='command:jupyter.viewOutput'>log</a> for further details."
     ]
    }
   ],
   "source": [
    "fig = plt.figure()\n",
    "ax = fig.add_subplot(1,1,1)\n",
    "\n",
    "i_z = par.Nz//2\n",
    "for w,ls in [(0.9,'-'),(1.0,'--'),(1.5,'--')]:\n",
    "    \n",
    "    fac = w/par.w\n",
    "    \n",
    "    model_ = model_egm.copy()\n",
    "    model_.par.w = w\n",
    "    model_.par.a_grid[:] = fac*model_.par.a_grid\n",
    "    model_.solve(do_print=False,algo='egm')\n",
    "    \n",
    "    ax.plot(model_.par.a_grid/fac,model_.sol.c[i_z,:]/fac-model_egm.sol.c[i_z,:],label=f'{w = :.1f}')\n",
    "             \n",
    "ax.legend(frameon=True) \n",
    "ax.set_xlim([0,100])\n",
    "ax.set_xlabel('$a_{t-1}$');\n",
    "ax.set_ylabel('diff. to baseline');"
   ]
  },
  {
   "cell_type": "markdown",
   "metadata": {},
   "source": [
    "## 7. <a id='toc7_'></a>[More simulation results](#toc0_)"
   ]
  },
  {
   "cell_type": "code",
   "execution_count": null,
   "metadata": {},
   "outputs": [
    {
     "ename": "",
     "evalue": "",
     "output_type": "error",
     "traceback": [
      "\u001b[1;31mFailed to start the Kernel. \n",
      "\u001b[1;31mUnable to start Kernel 'base (Python 3.11.3)' due to a timeout waiting for the ports to get used. \n",
      "\u001b[1;31mView Jupyter <a href='command:jupyter.viewOutput'>log</a> for further details."
     ]
    }
   ],
   "source": [
    "model_egm.prepare_simulate(algo='hist')\n",
    "model_egm.simulate_hist_alt()"
   ]
  },
  {
   "cell_type": "code",
   "execution_count": null,
   "metadata": {},
   "outputs": [
    {
     "ename": "",
     "evalue": "",
     "output_type": "error",
     "traceback": [
      "\u001b[1;31mFailed to start the Kernel. \n",
      "\u001b[1;31mUnable to start Kernel 'base (Python 3.11.3)' due to a timeout waiting for the ports to get used. \n",
      "\u001b[1;31mView Jupyter <a href='command:jupyter.viewOutput'>log</a> for further details."
     ]
    }
   ],
   "source": [
    "a = model_egm.sol.a\n",
    "c = model_egm.sol.c\n",
    "D = model_egm.sim.D_\n",
    "Dbeg = model_egm.sim.Dbeg_"
   ]
  },
  {
   "cell_type": "markdown",
   "metadata": {},
   "source": [
    "**Income moments:**"
   ]
  },
  {
   "cell_type": "code",
   "execution_count": null,
   "metadata": {},
   "outputs": [
    {
     "ename": "",
     "evalue": "",
     "output_type": "error",
     "traceback": [
      "\u001b[1;31mFailed to start the Kernel. \n",
      "\u001b[1;31mUnable to start Kernel 'base (Python 3.11.3)' due to a timeout waiting for the ports to get used. \n",
      "\u001b[1;31mView Jupyter <a href='command:jupyter.viewOutput'>log</a> for further details."
     ]
    }
   ],
   "source": [
    "mean_z = np.sum(D*par.z_grid[:,np.newaxis])\n",
    "std_z = np.sqrt(np.sum(D*(par.z_grid[:,np.newaxis]-mean_z)**2))\n",
    "print(f'mean z: {mean_z:5.2f}')\n",
    "print(f'std. z: {std_z:5.2f}')"
   ]
  },
  {
   "cell_type": "markdown",
   "metadata": {},
   "source": [
    "**Asset moments** using grids:"
   ]
  },
  {
   "cell_type": "code",
   "execution_count": null,
   "metadata": {},
   "outputs": [
    {
     "ename": "",
     "evalue": "",
     "output_type": "error",
     "traceback": [
      "\u001b[1;31mFailed to start the Kernel. \n",
      "\u001b[1;31mUnable to start Kernel 'base (Python 3.11.3)' due to a timeout waiting for the ports to get used. \n",
      "\u001b[1;31mView Jupyter <a href='command:jupyter.viewOutput'>log</a> for further details."
     ]
    }
   ],
   "source": [
    "# a. prepare\n",
    "Da = np.sum(D,axis=0)\n",
    "Da_cs = np.cumsum(Da)\n",
    "mean_a = np.sum(Da*par.a_grid)\n",
    "std_a = np.sqrt(np.sum(Da*(par.a_grid-mean_a)**2))\n",
    "\n",
    "def percentile(par,Da_cs,p):\n",
    "    \n",
    "    # a. check first\n",
    "    if p < Da_cs[0]: return par.a_grid[0]\n",
    "    \n",
    "    # b. find with loop\n",
    "    i = 0\n",
    "    while True:\n",
    "        if p > Da_cs[i+1]:\n",
    "            if i+1 >= par.Na: raise Exception()\n",
    "            i += 1\n",
    "            continue\n",
    "        else:\n",
    "            w = (p-Da_cs[i])/(Da_cs[i+1]-Da_cs[i])\n",
    "            diff = par.a_grid[i+1]-par.a_grid[i]\n",
    "            return par.a_grid[i]+w*diff\n",
    "        \n",
    "p25_a = percentile(par,Da_cs,0.25)\n",
    "p50_a = percentile(par,Da_cs,0.50)\n",
    "p95_a = percentile(par,Da_cs,0.95)\n",
    "p99_a = percentile(par,Da_cs,0.99)\n",
    "\n",
    "# b. print\n",
    "print(f'mean a: {mean_a:6.3f}')\n",
    "print(f'p25  a: {p25_a:6.3f}')\n",
    "print(f'p50  a: {p50_a:6.3f}')\n",
    "print(f'p95  a: {p95_a:6.3f}')\n",
    "print(f'p99  a: {p99_a:6.3f}')\n",
    "print(f'std. a: {std_a:6.3f}')\n",
    "\n",
    "print(f'a = par.b: {Da[0]*100:.1f} %')\n",
    "print(f'a <= 0: {np.sum(Da[par.a_grid <= 0])*100:.1f} %')"
   ]
  },
  {
   "cell_type": "markdown",
   "metadata": {},
   "source": [
    "Or the policy function:"
   ]
  },
  {
   "cell_type": "code",
   "execution_count": null,
   "metadata": {},
   "outputs": [
    {
     "ename": "",
     "evalue": "",
     "output_type": "error",
     "traceback": [
      "\u001b[1;31mFailed to start the Kernel. \n",
      "\u001b[1;31mUnable to start Kernel 'base (Python 3.11.3)' due to a timeout waiting for the ports to get used. \n",
      "\u001b[1;31mView Jupyter <a href='command:jupyter.viewOutput'>log</a> for further details."
     ]
    }
   ],
   "source": [
    "mean_a_alt = np.sum(D*a)\n",
    "print(f'mean a: {mean_a_alt:6.3f} (using policy function)')"
   ]
  },
  {
   "cell_type": "markdown",
   "metadata": {},
   "source": [
    "### 7.1. <a id='toc7_1_'></a>[MPCs](#toc0_)"
   ]
  },
  {
   "cell_type": "markdown",
   "metadata": {},
   "source": [
    "**Calculate MPC from consumption function:**"
   ]
  },
  {
   "cell_type": "code",
   "execution_count": null,
   "metadata": {},
   "outputs": [
    {
     "ename": "",
     "evalue": "",
     "output_type": "error",
     "traceback": [
      "\u001b[1;31mFailed to start the Kernel. \n",
      "\u001b[1;31mUnable to start Kernel 'base (Python 3.11.3)' due to a timeout waiting for the ports to get used. \n",
      "\u001b[1;31mView Jupyter <a href='command:jupyter.viewOutput'>log</a> for further details."
     ]
    }
   ],
   "source": [
    "MPC = (c[:,1:]-c[:,:-1])/((1+par.r)*(par.a_grid[1:]-par.a_grid[:-1]))"
   ]
  },
  {
   "cell_type": "code",
   "execution_count": null,
   "metadata": {},
   "outputs": [
    {
     "ename": "",
     "evalue": "",
     "output_type": "error",
     "traceback": [
      "\u001b[1;31mFailed to start the Kernel. \n",
      "\u001b[1;31mUnable to start Kernel 'base (Python 3.11.3)' due to a timeout waiting for the ports to get used. \n",
      "\u001b[1;31mView Jupyter <a href='command:jupyter.viewOutput'>log</a> for further details."
     ]
    }
   ],
   "source": [
    "fig = plt.figure()\n",
    "ax = fig.add_subplot(1,1,1)\n",
    "\n",
    "for i_z in [par.Nz//2-1,par.Nz//2,par.Nz//2+1]:\n",
    "    ax.plot(par.a_grid[:-1],MPC[i_z],label=f'z = {par.z_grid[i_z]:.2f}')\n",
    "\n",
    "ax.set_xlim([par.b,3])\n",
    "ax.set_xlabel('$a_{t-1}$')\n",
    "ax.legend(frameon=True);\n",
    "\n",
    "fig.suptitle('MPC from policy function')\n",
    "fig.tight_layout(pad=0.5)\n",
    "fig.savefig('figs/MPC_policy.pdf')"
   ]
  },
  {
   "cell_type": "markdown",
   "metadata": {},
   "source": [
    "**Mean MPC:**"
   ]
  },
  {
   "cell_type": "code",
   "execution_count": null,
   "metadata": {},
   "outputs": [
    {
     "ename": "",
     "evalue": "",
     "output_type": "error",
     "traceback": [
      "\u001b[1;31mFailed to start the Kernel. \n",
      "\u001b[1;31mUnable to start Kernel 'base (Python 3.11.3)' due to a timeout waiting for the ports to get used. \n",
      "\u001b[1;31mView Jupyter <a href='command:jupyter.viewOutput'>log</a> for further details."
     ]
    }
   ],
   "source": [
    "mean_MPC = np.sum(MPC*D[:,:-1])\n",
    "print(f'mean MPC: {mean_MPC:6.3f}')"
   ]
  },
  {
   "cell_type": "markdown",
   "metadata": {},
   "source": [
    "**MPC distribution:**"
   ]
  },
  {
   "cell_type": "code",
   "execution_count": null,
   "metadata": {},
   "outputs": [
    {
     "ename": "",
     "evalue": "",
     "output_type": "error",
     "traceback": [
      "\u001b[1;31mFailed to start the Kernel. \n",
      "\u001b[1;31mUnable to start Kernel 'base (Python 3.11.3)' due to a timeout waiting for the ports to get used. \n",
      "\u001b[1;31mView Jupyter <a href='command:jupyter.viewOutput'>log</a> for further details."
     ]
    }
   ],
   "source": [
    "fig = plt.figure()\n",
    "ax = fig.add_subplot(1,1,1)\n",
    "\n",
    "I = np.argsort(MPC.ravel())\n",
    "ax.plot(np.cumsum(D[:,:-1].ravel()[I]),MPC.ravel()[I])\n",
    "\n",
    "ax.set_xlabel('MPC')\n",
    "ax.set_ylabel('CDF')\n",
    "\n",
    "fig.suptitle('MPC distribution')\n",
    "fig.tight_layout(pad=0.5)\n",
    "fig.savefig('figs/MPC_dist.pdf')"
   ]
  },
  {
   "cell_type": "markdown",
   "metadata": {},
   "source": [
    "### 7.2. <a id='toc7_2_'></a>[Auto-correlation of savings over time (+)](#toc0_)"
   ]
  },
  {
   "cell_type": "code",
   "execution_count": null,
   "metadata": {},
   "outputs": [
    {
     "ename": "",
     "evalue": "",
     "output_type": "error",
     "traceback": [
      "\u001b[1;31mFailed to start the Kernel. \n",
      "\u001b[1;31mUnable to start Kernel 'base (Python 3.11.3)' due to a timeout waiting for the ports to get used. \n",
      "\u001b[1;31mView Jupyter <a href='command:jupyter.viewOutput'>log</a> for further details."
     ]
    }
   ],
   "source": [
    "from EconModel import jit\n",
    "from ConSavModel import simulate_hh_forwards_stochastic,simulate_hh_forwards_choice"
   ]
  },
  {
   "cell_type": "code",
   "execution_count": null,
   "metadata": {},
   "outputs": [
    {
     "ename": "",
     "evalue": "",
     "output_type": "error",
     "traceback": [
      "\u001b[1;31mFailed to start the Kernel. \n",
      "\u001b[1;31mUnable to start Kernel 'base (Python 3.11.3)' due to a timeout waiting for the ports to get used. \n",
      "\u001b[1;31mView Jupyter <a href='command:jupyter.viewOutput'>log</a> for further details."
     ]
    }
   ],
   "source": [
    "@nb.njit\n",
    "def autocorr(par,sol,D,max_k):\n",
    "    \n",
    "    autocorr_vec = np.zeros(max_k)\n",
    "    \n",
    "    # a. mean and variance\n",
    "    Da = np.sum(D,axis=0)\n",
    "    mean_a = np.sum(Da*par.a_grid)\n",
    "    var_a = np.sum(Da*(par.a_grid-mean_a)**2)\n",
    "    \n",
    "    # b. covariance\n",
    "    Dbeg = np.zeros(D.shape)\n",
    "    for i_z in range(par.Nz):\n",
    "        for i_a_lag in range(par.Na):\n",
    "            \n",
    "            if D[i_z,i_a_lag] < 1e-12: continue\n",
    "            \n",
    "            D_fut = np.zeros(D.shape)\n",
    "            D_fut[i_z,i_a_lag] = 1.0\n",
    "            \n",
    "            for k in range(max_k):\n",
    "                \n",
    "                simulate_hh_forwards_choice(par,sol,D_fut,Dbeg)\n",
    "                simulate_hh_forwards_stochastic(par,Dbeg,D_fut)\n",
    "                \n",
    "                autocorr_vec[k] += D[i_z,i_a_lag]*np.sum( (par.a_grid[i_a_lag]-mean_a)*(par.a_grid-mean_a)*D_fut )\n",
    "                                         \n",
    "    return autocorr_vec/var_a"
   ]
  },
  {
   "cell_type": "code",
   "execution_count": null,
   "metadata": {},
   "outputs": [
    {
     "ename": "",
     "evalue": "",
     "output_type": "error",
     "traceback": [
      "\u001b[1;31mFailed to start the Kernel. \n",
      "\u001b[1;31mUnable to start Kernel 'base (Python 3.11.3)' due to a timeout waiting for the ports to get used. \n",
      "\u001b[1;31mView Jupyter <a href='command:jupyter.viewOutput'>log</a> for further details."
     ]
    }
   ],
   "source": [
    "with jit(model_egm) as model_jit:\n",
    "    autocorr_vec = autocorr(model_jit.par,model_jit.sol,D,1)\n",
    "\n",
    "print(f'autocorr(a_t,a_t+1) = {autocorr_vec[0]:6.3f}')"
   ]
  },
  {
   "cell_type": "code",
   "execution_count": null,
   "metadata": {},
   "outputs": [
    {
     "ename": "",
     "evalue": "",
     "output_type": "error",
     "traceback": [
      "\u001b[1;31mFailed to start the Kernel. \n",
      "\u001b[1;31mUnable to start Kernel 'base (Python 3.11.3)' due to a timeout waiting for the ports to get used. \n",
      "\u001b[1;31mView Jupyter <a href='command:jupyter.viewOutput'>log</a> for further details."
     ]
    }
   ],
   "source": [
    "with jit(model_egm) as model_jit:\n",
    "    %time autocorr_vec = autocorr(model_jit.par,model_jit.sol,D,1)\n",
    "    %time autocorr_vec = autocorr(model_jit.par,model_jit.sol,D,5)"
   ]
  },
  {
   "cell_type": "code",
   "execution_count": null,
   "metadata": {},
   "outputs": [
    {
     "ename": "",
     "evalue": "",
     "output_type": "error",
     "traceback": [
      "\u001b[1;31mFailed to start the Kernel. \n",
      "\u001b[1;31mUnable to start Kernel 'base (Python 3.11.3)' due to a timeout waiting for the ports to get used. \n",
      "\u001b[1;31mView Jupyter <a href='command:jupyter.viewOutput'>log</a> for further details."
     ]
    }
   ],
   "source": [
    "fig = plt.figure()\n",
    "ax = fig.add_subplot(1,1,1)\n",
    "\n",
    "ax.plot(np.arange(1,6),autocorr_vec,'-o')\n",
    "\n",
    "ax.set_xticks(np.arange(1,6))\n",
    "ax.set_xlabel('k')\n",
    "ax.set_ylabel('$corr(a_t,a_{t+k})$');"
   ]
  },
  {
   "cell_type": "markdown",
   "metadata": {},
   "source": [
    "**Note:** The long auto-correlations are computionally expensive to compute with the histogram method. See [Computing Longitudinal Moments for\n",
    "Heterogeneous Agent Models](https://github.com/ocamp020/Histogram_Iteration) for additional details."
   ]
  }
 ],
 "metadata": {
  "kernelspec": {
   "display_name": "Python 3 (ipykernel)",
   "language": "python",
   "name": "python3"
  },
  "language_info": {
   "codemirror_mode": {
    "name": "ipython",
    "version": 3
   },
   "file_extension": ".py",
   "mimetype": "text/x-python",
   "name": "python",
   "nbconvert_exporter": "python",
   "pygments_lexer": "ipython3",
   "version": "3.11.3"
  },
  "toc-autonumbering": true
 },
 "nbformat": 4,
 "nbformat_minor": 4
}
