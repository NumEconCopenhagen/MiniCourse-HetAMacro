{
 "cells": [
  {
   "cell_type": "markdown",
   "metadata": {},
   "source": [
    "# HANK with endogenous risk"
   ]
  },
  {
   "cell_type": "markdown",
   "metadata": {},
   "source": [
    "**Table of contents**<a id='toc0_'></a>    \n",
    "- 1. [Setup](#toc1_)    \n",
    "- 2. [Steady state](#toc2_)    \n",
    "  - 2.1. [Tests](#toc2_1_)    \n",
    "\n",
    "<!-- vscode-jupyter-toc-config\n",
    "\tnumbering=true\n",
    "\tanchor=true\n",
    "\tflat=false\n",
    "\tminLevel=2\n",
    "\tmaxLevel=6\n",
    "\t/vscode-jupyter-toc-config -->\n",
    "<!-- THIS CELL WILL BE REPLACED ON TOC UPDATE. DO NOT WRITE YOUR TEXT IN THIS CELL -->"
   ]
  },
  {
   "cell_type": "code",
   "execution_count": 1,
   "metadata": {},
   "outputs": [],
   "source": [
    "%load_ext autoreload\n",
    "%autoreload 2\n",
    "\n",
    "import numpy as np\n",
    "\n",
    "import matplotlib.pyplot as plt   \n",
    "colors = plt.rcParams['axes.prop_cycle'].by_key()['color']\n",
    "plt.rcParams.update({\"axes.grid\" : True, \"grid.color\": \"black\", \"grid.alpha\":\"0.25\", \"grid.linestyle\": \"--\"})\n",
    "plt.rcParams.update({'font.size': 14})\n",
    "\n",
    "from HANKModel import HANKModelClass"
   ]
  },
  {
   "cell_type": "markdown",
   "metadata": {},
   "source": [
    "## 1. <a id='toc1_'></a>[Setup](#toc0_)"
   ]
  },
  {
   "cell_type": "code",
   "execution_count": 2,
   "metadata": {},
   "outputs": [],
   "source": [
    "model = HANKModelClass(name='baseline')"
   ]
  },
  {
   "cell_type": "code",
   "execution_count": 3,
   "metadata": {},
   "outputs": [],
   "source": [
    "par = model.par\n",
    "ss = model.ss\n",
    "path = model.path\n",
    "sim = model.sim"
   ]
  },
  {
   "cell_type": "markdown",
   "metadata": {},
   "source": [
    "## 2. <a id='toc2_'></a>[Steady state](#toc0_)"
   ]
  },
  {
   "cell_type": "code",
   "execution_count": 4,
   "metadata": {},
   "outputs": [],
   "source": [
    "model.find_ss(do_print=True)"
   ]
  },
  {
   "cell_type": "markdown",
   "metadata": {},
   "source": [
    "### 2.1. <a id='toc2_1_'></a>[Tests](#toc0_)"
   ]
  },
  {
   "cell_type": "code",
   "execution_count": 5,
   "metadata": {},
   "outputs": [
    {
     "name": "stdout",
     "output_type": "stream",
     "text": [
      "Gamma          :       1.0000\n",
      "pi_w           :       0.0000\n",
      "N              :       1.0000\n",
      "w              :       1.0000\n",
      "pi             :       0.0000\n",
      "Y              :       1.0000\n",
      "i              :       0.0500\n",
      "r              :       0.0500\n",
      "G              :       0.2000\n",
      "B              :       0.2100\n",
      "T              :       0.2105\n",
      "Z              :       0.7895\n",
      "ra             :       0.0500\n",
      "Delta          :       1.0000\n",
      "delta          :       0.1667\n",
      "A_hh           :       0.2100\n",
      "C_hh           :       0.8000\n",
      "Y_hh           :       0.7895\n",
      "AUX_hh         :       1.2296\n",
      "NKWC_res       :       0.0000\n",
      "clearing_A     :      -0.0000\n",
      "clearing_Y     :       0.0000\n"
     ]
    }
   ],
   "source": [
    "model.test_ss()"
   ]
  },
  {
   "cell_type": "code",
   "execution_count": 6,
   "metadata": {},
   "outputs": [
    {
     "name": "stdout",
     "output_type": "stream",
     "text": [
      "shocks: G Gamma \n",
      "unknowns: pi_w N \n",
      "\n",
      "look at max(abs(path.VARNAME[:]-ss.VARNAME)):\n",
      "\n",
      " blocks.production\n",
      "  w                0.0e+00\n",
      "  pi               0.0e+00\n",
      "  Y                0.0e+00\n",
      " blocks.central_bank\n",
      "  i                4.2e-17\n",
      "  r                4.2e-17\n",
      " blocks.government\n",
      "  B                0.0e+00\n",
      "  T                2.8e-17\n",
      " blocks.hh_pre\n",
      "  Z                0.0e+00\n",
      "  ra               4.2e-17\n",
      "  Delta            0.0e+00\n",
      "  delta            0.0e+00\n",
      " hh\n",
      "  A_hh             3.1e-11\n",
      "  C_hh             1.5e-11\n",
      "  Y_hh             4.1e-15\n",
      "  AUX_hh           1.7e-11\n",
      " blocks.NKWC\n",
      "  NKWC_res         4.2e-13 [target]\n",
      " blocks.market_clearing\n",
      "  clearing_A       3.1e-11 [target]\n",
      "  clearing_Y       1.5e-11\n"
     ]
    }
   ],
   "source": [
    "model.test_path()"
   ]
  }
 ],
 "metadata": {
  "kernelspec": {
   "display_name": "base",
   "language": "python",
   "name": "python3"
  },
  "language_info": {
   "codemirror_mode": {
    "name": "ipython",
    "version": 3
   },
   "file_extension": ".py",
   "mimetype": "text/x-python",
   "name": "python",
   "nbconvert_exporter": "python",
   "pygments_lexer": "ipython3",
   "version": "3.11.5"
  },
  "toc-autonumbering": true,
  "vscode": {
   "interpreter": {
    "hash": "47ef90cdf3004d3f859f1fb202523c65c07ba7c22eefd261b181f4744e2d0403"
   }
  }
 },
 "nbformat": 4,
 "nbformat_minor": 4
}
